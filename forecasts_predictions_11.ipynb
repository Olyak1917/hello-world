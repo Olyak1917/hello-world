{
 "cells": [
  {
   "cell_type": "markdown",
   "metadata": {},
   "source": [
    "## Project description\n",
    "The gym chain Model Fitness is developing a customer interaction strategy based on analytical data.\n",
    "\n",
    "One of the most common problems gyms and other services face is customer churn. How do you know if a customer is no longer with you? You can calculate churn based on people who get rid of their accounts or don't renew their contracts. However, sometimes it's not obvious that a client has left: they may walk out on tiptoes.\n",
    "\n",
    "For a gym, it makes sense to say a customer has left if they don't come for a month. Of course, it's possible they're in Cancun and will resume their visits when they return, but's that's not a typical case. Usually, if a customer joins, comes a few times, then disappears, they're unlikely to come back.\n",
    "\n",
    "In order to fight churn, Model Fitness has digitized a number of its customer profiles. Your task is to analyze them and come up with a customer retention strategy.\n",
    "\n",
    "You should:\n",
    "\n",
    "Learn to predict the probability of churn (for the upcoming month) for each customer\n",
    "\n",
    "Draw up typical user portraits: select the most outstanding groups and describe their main features\n",
    "\n",
    "Analyze the factors that impact churn most\n",
    "\n",
    "Draw basic conclusions and develop recommendations on how to improve customer service:\n",
    "\n",
    "- Identify target groups\n",
    "\n",
    "- Suggest measures to cut churn\n",
    "\n",
    "- Describe any other patterns you see with respect to interaction with customers"
   ]
  },
  {
   "cell_type": "markdown",
   "metadata": {},
   "source": [
    "Project goal is to analyze customer profiles of Model Fitness chain and come up with a customer retention strategy in order to fight churn."
   ]
  },
  {
   "cell_type": "markdown",
   "metadata": {},
   "source": [
    "## Step 1. Download the data"
   ]
  },
  {
   "cell_type": "code",
   "execution_count": 1,
   "metadata": {},
   "outputs": [],
   "source": [
    "import pandas as pd\n",
    "\n",
    "import seaborn as sns\n",
    "from sklearn.preprocessing import StandardScaler\n",
    "from sklearn.model_selection import train_test_split\n",
    "\n",
    "from sklearn.linear_model import LogisticRegression\n",
    "from sklearn.ensemble import RandomForestClassifier\n",
    "\n",
    "import matplotlib.pyplot as plt\n",
    "\n",
    "from sklearn.metrics import accuracy_score, precision_score, recall_score\n",
    "\n",
    "from scipy.cluster.hierarchy import dendrogram, linkage \n",
    "from sklearn.cluster import KMeans\n",
    "\n",
    "import sys\n",
    "import warnings\n",
    "if not sys.warnoptions:\n",
    "       warnings.simplefilter(\"ignore\")"
   ]
  },
  {
   "cell_type": "code",
   "execution_count": 2,
   "metadata": {},
   "outputs": [
    {
     "name": "stdout",
     "output_type": "stream",
     "text": [
      "<class 'pandas.core.frame.DataFrame'>\n",
      "RangeIndex: 4000 entries, 0 to 3999\n",
      "Data columns (total 14 columns):\n",
      "gender                               4000 non-null int64\n",
      "Near_Location                        4000 non-null int64\n",
      "Partner                              4000 non-null int64\n",
      "Promo_friends                        4000 non-null int64\n",
      "Phone                                4000 non-null int64\n",
      "Contract_period                      4000 non-null int64\n",
      "Group_visits                         4000 non-null int64\n",
      "Age                                  4000 non-null int64\n",
      "Avg_additional_charges_total         4000 non-null float64\n",
      "Month_to_end_contract                4000 non-null float64\n",
      "Lifetime                             4000 non-null int64\n",
      "Avg_class_frequency_total            4000 non-null float64\n",
      "Avg_class_frequency_current_month    4000 non-null float64\n",
      "Churn                                4000 non-null int64\n",
      "dtypes: float64(4), int64(10)\n",
      "memory usage: 437.6 KB\n"
     ]
    },
    {
     "data": {
      "text/plain": [
       "(4000, 14)"
      ]
     },
     "execution_count": 2,
     "metadata": {},
     "output_type": "execute_result"
    }
   ],
   "source": [
    "data = pd.read_csv('/datasets/gym_churn_us.csv')\n",
    "data.info()\n",
    "data.shape"
   ]
  },
  {
   "cell_type": "code",
   "execution_count": 3,
   "metadata": {},
   "outputs": [
    {
     "data": {
      "text/plain": [
       "Index(['gender', 'Near_Location', 'Partner', 'Promo_friends', 'Phone',\n",
       "       'Contract_period', 'Group_visits', 'Age',\n",
       "       'Avg_additional_charges_total', 'Month_to_end_contract', 'Lifetime',\n",
       "       'Avg_class_frequency_total', 'Avg_class_frequency_current_month',\n",
       "       'Churn'],\n",
       "      dtype='object')"
      ]
     },
     "execution_count": 3,
     "metadata": {},
     "output_type": "execute_result"
    }
   ],
   "source": [
    "data.columns"
   ]
  },
  {
   "cell_type": "code",
   "execution_count": 4,
   "metadata": {},
   "outputs": [
    {
     "data": {
      "text/html": [
       "<div>\n",
       "<style scoped>\n",
       "    .dataframe tbody tr th:only-of-type {\n",
       "        vertical-align: middle;\n",
       "    }\n",
       "\n",
       "    .dataframe tbody tr th {\n",
       "        vertical-align: top;\n",
       "    }\n",
       "\n",
       "    .dataframe thead th {\n",
       "        text-align: right;\n",
       "    }\n",
       "</style>\n",
       "<table border=\"1\" class=\"dataframe\">\n",
       "  <thead>\n",
       "    <tr style=\"text-align: right;\">\n",
       "      <th></th>\n",
       "      <th>gender</th>\n",
       "      <th>Near_Location</th>\n",
       "      <th>Partner</th>\n",
       "      <th>Promo_friends</th>\n",
       "      <th>Phone</th>\n",
       "      <th>Contract_period</th>\n",
       "      <th>Group_visits</th>\n",
       "      <th>Age</th>\n",
       "      <th>Avg_additional_charges_total</th>\n",
       "      <th>Month_to_end_contract</th>\n",
       "      <th>Lifetime</th>\n",
       "      <th>Avg_class_frequency_total</th>\n",
       "      <th>Avg_class_frequency_current_month</th>\n",
       "      <th>Churn</th>\n",
       "    </tr>\n",
       "  </thead>\n",
       "  <tbody>\n",
       "    <tr>\n",
       "      <td>0</td>\n",
       "      <td>1</td>\n",
       "      <td>1</td>\n",
       "      <td>1</td>\n",
       "      <td>1</td>\n",
       "      <td>0</td>\n",
       "      <td>6</td>\n",
       "      <td>1</td>\n",
       "      <td>29</td>\n",
       "      <td>14.227470</td>\n",
       "      <td>5.0</td>\n",
       "      <td>3</td>\n",
       "      <td>0.020398</td>\n",
       "      <td>0.000000</td>\n",
       "      <td>0</td>\n",
       "    </tr>\n",
       "    <tr>\n",
       "      <td>1</td>\n",
       "      <td>0</td>\n",
       "      <td>1</td>\n",
       "      <td>0</td>\n",
       "      <td>0</td>\n",
       "      <td>1</td>\n",
       "      <td>12</td>\n",
       "      <td>1</td>\n",
       "      <td>31</td>\n",
       "      <td>113.202938</td>\n",
       "      <td>12.0</td>\n",
       "      <td>7</td>\n",
       "      <td>1.922936</td>\n",
       "      <td>1.910244</td>\n",
       "      <td>0</td>\n",
       "    </tr>\n",
       "    <tr>\n",
       "      <td>2</td>\n",
       "      <td>0</td>\n",
       "      <td>1</td>\n",
       "      <td>1</td>\n",
       "      <td>0</td>\n",
       "      <td>1</td>\n",
       "      <td>1</td>\n",
       "      <td>0</td>\n",
       "      <td>28</td>\n",
       "      <td>129.448479</td>\n",
       "      <td>1.0</td>\n",
       "      <td>2</td>\n",
       "      <td>1.859098</td>\n",
       "      <td>1.736502</td>\n",
       "      <td>0</td>\n",
       "    </tr>\n",
       "    <tr>\n",
       "      <td>3</td>\n",
       "      <td>0</td>\n",
       "      <td>1</td>\n",
       "      <td>1</td>\n",
       "      <td>1</td>\n",
       "      <td>1</td>\n",
       "      <td>12</td>\n",
       "      <td>1</td>\n",
       "      <td>33</td>\n",
       "      <td>62.669863</td>\n",
       "      <td>12.0</td>\n",
       "      <td>2</td>\n",
       "      <td>3.205633</td>\n",
       "      <td>3.357215</td>\n",
       "      <td>0</td>\n",
       "    </tr>\n",
       "    <tr>\n",
       "      <td>4</td>\n",
       "      <td>1</td>\n",
       "      <td>1</td>\n",
       "      <td>1</td>\n",
       "      <td>1</td>\n",
       "      <td>1</td>\n",
       "      <td>1</td>\n",
       "      <td>0</td>\n",
       "      <td>26</td>\n",
       "      <td>198.362265</td>\n",
       "      <td>1.0</td>\n",
       "      <td>3</td>\n",
       "      <td>1.113884</td>\n",
       "      <td>1.120078</td>\n",
       "      <td>0</td>\n",
       "    </tr>\n",
       "    <tr>\n",
       "      <td>5</td>\n",
       "      <td>1</td>\n",
       "      <td>1</td>\n",
       "      <td>0</td>\n",
       "      <td>0</td>\n",
       "      <td>1</td>\n",
       "      <td>1</td>\n",
       "      <td>1</td>\n",
       "      <td>34</td>\n",
       "      <td>450.743960</td>\n",
       "      <td>1.0</td>\n",
       "      <td>3</td>\n",
       "      <td>2.623477</td>\n",
       "      <td>2.637007</td>\n",
       "      <td>0</td>\n",
       "    </tr>\n",
       "    <tr>\n",
       "      <td>6</td>\n",
       "      <td>1</td>\n",
       "      <td>1</td>\n",
       "      <td>1</td>\n",
       "      <td>1</td>\n",
       "      <td>0</td>\n",
       "      <td>6</td>\n",
       "      <td>1</td>\n",
       "      <td>32</td>\n",
       "      <td>94.266389</td>\n",
       "      <td>6.0</td>\n",
       "      <td>2</td>\n",
       "      <td>1.138941</td>\n",
       "      <td>1.277242</td>\n",
       "      <td>0</td>\n",
       "    </tr>\n",
       "    <tr>\n",
       "      <td>7</td>\n",
       "      <td>0</td>\n",
       "      <td>1</td>\n",
       "      <td>0</td>\n",
       "      <td>0</td>\n",
       "      <td>1</td>\n",
       "      <td>1</td>\n",
       "      <td>0</td>\n",
       "      <td>30</td>\n",
       "      <td>217.786641</td>\n",
       "      <td>1.0</td>\n",
       "      <td>0</td>\n",
       "      <td>1.213502</td>\n",
       "      <td>1.049387</td>\n",
       "      <td>1</td>\n",
       "    </tr>\n",
       "    <tr>\n",
       "      <td>8</td>\n",
       "      <td>1</td>\n",
       "      <td>1</td>\n",
       "      <td>1</td>\n",
       "      <td>1</td>\n",
       "      <td>1</td>\n",
       "      <td>1</td>\n",
       "      <td>1</td>\n",
       "      <td>23</td>\n",
       "      <td>45.409909</td>\n",
       "      <td>1.0</td>\n",
       "      <td>1</td>\n",
       "      <td>1.106239</td>\n",
       "      <td>1.059333</td>\n",
       "      <td>0</td>\n",
       "    </tr>\n",
       "    <tr>\n",
       "      <td>9</td>\n",
       "      <td>0</td>\n",
       "      <td>1</td>\n",
       "      <td>0</td>\n",
       "      <td>0</td>\n",
       "      <td>1</td>\n",
       "      <td>1</td>\n",
       "      <td>0</td>\n",
       "      <td>31</td>\n",
       "      <td>65.310836</td>\n",
       "      <td>1.0</td>\n",
       "      <td>11</td>\n",
       "      <td>1.810852</td>\n",
       "      <td>1.951368</td>\n",
       "      <td>0</td>\n",
       "    </tr>\n",
       "  </tbody>\n",
       "</table>\n",
       "</div>"
      ],
      "text/plain": [
       "   gender  Near_Location  Partner  Promo_friends  Phone  Contract_period  \\\n",
       "0       1              1        1              1      0                6   \n",
       "1       0              1        0              0      1               12   \n",
       "2       0              1        1              0      1                1   \n",
       "3       0              1        1              1      1               12   \n",
       "4       1              1        1              1      1                1   \n",
       "5       1              1        0              0      1                1   \n",
       "6       1              1        1              1      0                6   \n",
       "7       0              1        0              0      1                1   \n",
       "8       1              1        1              1      1                1   \n",
       "9       0              1        0              0      1                1   \n",
       "\n",
       "   Group_visits  Age  Avg_additional_charges_total  Month_to_end_contract  \\\n",
       "0             1   29                     14.227470                    5.0   \n",
       "1             1   31                    113.202938                   12.0   \n",
       "2             0   28                    129.448479                    1.0   \n",
       "3             1   33                     62.669863                   12.0   \n",
       "4             0   26                    198.362265                    1.0   \n",
       "5             1   34                    450.743960                    1.0   \n",
       "6             1   32                     94.266389                    6.0   \n",
       "7             0   30                    217.786641                    1.0   \n",
       "8             1   23                     45.409909                    1.0   \n",
       "9             0   31                     65.310836                    1.0   \n",
       "\n",
       "   Lifetime  Avg_class_frequency_total  Avg_class_frequency_current_month  \\\n",
       "0         3                   0.020398                           0.000000   \n",
       "1         7                   1.922936                           1.910244   \n",
       "2         2                   1.859098                           1.736502   \n",
       "3         2                   3.205633                           3.357215   \n",
       "4         3                   1.113884                           1.120078   \n",
       "5         3                   2.623477                           2.637007   \n",
       "6         2                   1.138941                           1.277242   \n",
       "7         0                   1.213502                           1.049387   \n",
       "8         1                   1.106239                           1.059333   \n",
       "9        11                   1.810852                           1.951368   \n",
       "\n",
       "   Churn  \n",
       "0      0  \n",
       "1      0  \n",
       "2      0  \n",
       "3      0  \n",
       "4      0  \n",
       "5      0  \n",
       "6      0  \n",
       "7      1  \n",
       "8      0  \n",
       "9      0  "
      ]
     },
     "execution_count": 4,
     "metadata": {},
     "output_type": "execute_result"
    }
   ],
   "source": [
    "data.head(10)"
   ]
  },
  {
   "cell_type": "code",
   "execution_count": null,
   "metadata": {},
   "outputs": [],
   "source": [
    "# Check for duplicates.\n",
    "data.duplicated()"
   ]
  },
  {
   "cell_type": "code",
   "execution_count": 5,
   "metadata": {},
   "outputs": [
    {
     "data": {
      "text/plain": [
       "0"
      ]
     },
     "execution_count": 5,
     "metadata": {},
     "output_type": "execute_result"
    }
   ],
   "source": [
    "data.duplicated().sum()"
   ]
  },
  {
   "cell_type": "markdown",
   "metadata": {},
   "source": [
    "## Conclusion\n",
    "On this step we download the data. We check data for duplicates, no duplicates found."
   ]
  },
  {
   "cell_type": "markdown",
   "metadata": {},
   "source": [
    "The data types are proper, although could be reduced from int64 , this is not necessary because total data volume is quite small."
   ]
  },
  {
   "cell_type": "markdown",
   "metadata": {},
   "source": [
    "## Step 2. Carry out exploratory data analysis (EDA)"
   ]
  },
  {
   "cell_type": "markdown",
   "metadata": {},
   "source": [
    "- Look at the dataset: does it contain any missing features? Study the mean values and standard deviation (use the describe() method).\n",
    "- Look at the mean feature values in two groups: for those who left (churn) and for those who stayed (use the groupby() method).\n",
    "- Plot bar histograms and feature distributions for those who left (churn) and those who stayed.\n",
    "- Build a correlation matrix and display it.\n"
   ]
  },
  {
   "cell_type": "code",
   "execution_count": 6,
   "metadata": {},
   "outputs": [
    {
     "name": "stdout",
     "output_type": "stream",
     "text": [
      "0    1959\n",
      "1    2041\n",
      "Name: gender, dtype: int64\n",
      "0     619\n",
      "1    3381\n",
      "Name: Near_Location, dtype: int64\n",
      "1    1947\n",
      "0    2053\n",
      "Name: Partner, dtype: int64\n",
      "1    1234\n",
      "0    2766\n",
      "Name: Promo_friends, dtype: int64\n",
      "0     386\n",
      "1    3614\n",
      "Name: Phone, dtype: int64\n",
      "6      833\n",
      "12     960\n",
      "1     2207\n",
      "Name: Contract_period, dtype: int64\n",
      "1    1649\n",
      "0    2351\n",
      "Name: Group_visits, dtype: int64\n",
      "41      1\n",
      "18      2\n",
      "19      2\n",
      "39      3\n",
      "38     10\n",
      "20     14\n",
      "21     24\n",
      "37     29\n",
      "22     33\n",
      "36     48\n",
      "23     82\n",
      "35     98\n",
      "24    148\n",
      "34    174\n",
      "25    231\n",
      "33    253\n",
      "26    300\n",
      "32    364\n",
      "27    378\n",
      "31    434\n",
      "28    447\n",
      "30    457\n",
      "29    468\n",
      "Name: Age, dtype: int64\n",
      "0.148205      1\n",
      "182.960514    1\n",
      "183.078280    1\n",
      "183.094659    1\n",
      "183.110743    1\n",
      "             ..\n",
      "92.671903     1\n",
      "92.682422     1\n",
      "92.715931     1\n",
      "92.025681     1\n",
      "552.590740    1\n",
      "Name: Avg_additional_charges_total, Length: 4000, dtype: int64\n",
      "2.0       14\n",
      "3.0       23\n",
      "7.0       25\n",
      "8.0       38\n",
      "4.0       58\n",
      "9.0       73\n",
      "10.0      82\n",
      "5.0      130\n",
      "11.0     181\n",
      "12.0     524\n",
      "6.0      645\n",
      "1.0     2207\n",
      "Name: Month_to_end_contract, dtype: int64\n",
      "31      1\n",
      "27      1\n",
      "29      1\n",
      "26      2\n",
      "24      2\n",
      "23      2\n",
      "22      2\n",
      "21      5\n",
      "20      7\n",
      "19      7\n",
      "18      7\n",
      "17     11\n",
      "16     15\n",
      "15     24\n",
      "14     24\n",
      "13     28\n",
      "11     48\n",
      "12     53\n",
      "10     76\n",
      "9     100\n",
      "8     111\n",
      "7     167\n",
      "6     220\n",
      "5     273\n",
      "4     383\n",
      "0     487\n",
      "3     490\n",
      "2     610\n",
      "1     843\n",
      "Name: Lifetime, dtype: int64\n",
      "1.860377     1\n",
      "2.308606     1\n",
      "2.310062     1\n",
      "2.311137     1\n",
      "2.311435     1\n",
      "            ..\n",
      "1.451927     1\n",
      "1.453727     1\n",
      "1.455314     1\n",
      "1.457365     1\n",
      "0.000000    88\n",
      "Name: Avg_class_frequency_total, Length: 3913, dtype: int64\n",
      "1.777785      1\n",
      "2.288495      1\n",
      "2.289283      1\n",
      "2.293717      1\n",
      "2.294090      1\n",
      "           ... \n",
      "1.332878      1\n",
      "1.333863      1\n",
      "1.334347      1\n",
      "1.323744      1\n",
      "0.000000    181\n",
      "Name: Avg_class_frequency_current_month, Length: 3820, dtype: int64\n",
      "1    1061\n",
      "0    2939\n",
      "Name: Churn, dtype: int64\n"
     ]
    }
   ],
   "source": [
    "# look at data:\n",
    "for col in data.columns:\n",
    "    temp_series = data[col].value_counts().sort_index().sort_values()\n",
    "    print(temp_series)"
   ]
  },
  {
   "cell_type": "code",
   "execution_count": 7,
   "metadata": {},
   "outputs": [
    {
     "data": {
      "text/html": [
       "<div>\n",
       "<style scoped>\n",
       "    .dataframe tbody tr th:only-of-type {\n",
       "        vertical-align: middle;\n",
       "    }\n",
       "\n",
       "    .dataframe tbody tr th {\n",
       "        vertical-align: top;\n",
       "    }\n",
       "\n",
       "    .dataframe thead th {\n",
       "        text-align: right;\n",
       "    }\n",
       "</style>\n",
       "<table border=\"1\" class=\"dataframe\">\n",
       "  <thead>\n",
       "    <tr style=\"text-align: right;\">\n",
       "      <th></th>\n",
       "      <th>gender</th>\n",
       "      <th>Near_Location</th>\n",
       "      <th>Partner</th>\n",
       "      <th>Promo_friends</th>\n",
       "      <th>Phone</th>\n",
       "      <th>Contract_period</th>\n",
       "      <th>Group_visits</th>\n",
       "      <th>Age</th>\n",
       "      <th>Avg_additional_charges_total</th>\n",
       "      <th>Month_to_end_contract</th>\n",
       "      <th>Lifetime</th>\n",
       "      <th>Avg_class_frequency_total</th>\n",
       "      <th>Avg_class_frequency_current_month</th>\n",
       "      <th>Churn</th>\n",
       "    </tr>\n",
       "  </thead>\n",
       "  <tbody>\n",
       "    <tr>\n",
       "      <td>count</td>\n",
       "      <td>4000.000000</td>\n",
       "      <td>4000.000000</td>\n",
       "      <td>4000.000000</td>\n",
       "      <td>4000.000000</td>\n",
       "      <td>4000.000000</td>\n",
       "      <td>4000.000000</td>\n",
       "      <td>4000.000000</td>\n",
       "      <td>4000.000000</td>\n",
       "      <td>4000.000000</td>\n",
       "      <td>4000.000000</td>\n",
       "      <td>4000.000000</td>\n",
       "      <td>4000.000000</td>\n",
       "      <td>4000.000000</td>\n",
       "      <td>4000.000000</td>\n",
       "    </tr>\n",
       "    <tr>\n",
       "      <td>mean</td>\n",
       "      <td>0.510250</td>\n",
       "      <td>0.845250</td>\n",
       "      <td>0.486750</td>\n",
       "      <td>0.308500</td>\n",
       "      <td>0.903500</td>\n",
       "      <td>4.681250</td>\n",
       "      <td>0.412250</td>\n",
       "      <td>29.184250</td>\n",
       "      <td>146.943728</td>\n",
       "      <td>4.322750</td>\n",
       "      <td>3.724750</td>\n",
       "      <td>1.879020</td>\n",
       "      <td>1.767052</td>\n",
       "      <td>0.265250</td>\n",
       "    </tr>\n",
       "    <tr>\n",
       "      <td>std</td>\n",
       "      <td>0.499957</td>\n",
       "      <td>0.361711</td>\n",
       "      <td>0.499887</td>\n",
       "      <td>0.461932</td>\n",
       "      <td>0.295313</td>\n",
       "      <td>4.549706</td>\n",
       "      <td>0.492301</td>\n",
       "      <td>3.258367</td>\n",
       "      <td>96.355602</td>\n",
       "      <td>4.191297</td>\n",
       "      <td>3.749267</td>\n",
       "      <td>0.972245</td>\n",
       "      <td>1.052906</td>\n",
       "      <td>0.441521</td>\n",
       "    </tr>\n",
       "    <tr>\n",
       "      <td>min</td>\n",
       "      <td>0.000000</td>\n",
       "      <td>0.000000</td>\n",
       "      <td>0.000000</td>\n",
       "      <td>0.000000</td>\n",
       "      <td>0.000000</td>\n",
       "      <td>1.000000</td>\n",
       "      <td>0.000000</td>\n",
       "      <td>18.000000</td>\n",
       "      <td>0.148205</td>\n",
       "      <td>1.000000</td>\n",
       "      <td>0.000000</td>\n",
       "      <td>0.000000</td>\n",
       "      <td>0.000000</td>\n",
       "      <td>0.000000</td>\n",
       "    </tr>\n",
       "    <tr>\n",
       "      <td>25%</td>\n",
       "      <td>0.000000</td>\n",
       "      <td>1.000000</td>\n",
       "      <td>0.000000</td>\n",
       "      <td>0.000000</td>\n",
       "      <td>1.000000</td>\n",
       "      <td>1.000000</td>\n",
       "      <td>0.000000</td>\n",
       "      <td>27.000000</td>\n",
       "      <td>68.868830</td>\n",
       "      <td>1.000000</td>\n",
       "      <td>1.000000</td>\n",
       "      <td>1.180875</td>\n",
       "      <td>0.963003</td>\n",
       "      <td>0.000000</td>\n",
       "    </tr>\n",
       "    <tr>\n",
       "      <td>50%</td>\n",
       "      <td>1.000000</td>\n",
       "      <td>1.000000</td>\n",
       "      <td>0.000000</td>\n",
       "      <td>0.000000</td>\n",
       "      <td>1.000000</td>\n",
       "      <td>1.000000</td>\n",
       "      <td>0.000000</td>\n",
       "      <td>29.000000</td>\n",
       "      <td>136.220159</td>\n",
       "      <td>1.000000</td>\n",
       "      <td>3.000000</td>\n",
       "      <td>1.832768</td>\n",
       "      <td>1.719574</td>\n",
       "      <td>0.000000</td>\n",
       "    </tr>\n",
       "    <tr>\n",
       "      <td>75%</td>\n",
       "      <td>1.000000</td>\n",
       "      <td>1.000000</td>\n",
       "      <td>1.000000</td>\n",
       "      <td>1.000000</td>\n",
       "      <td>1.000000</td>\n",
       "      <td>6.000000</td>\n",
       "      <td>1.000000</td>\n",
       "      <td>31.000000</td>\n",
       "      <td>210.949625</td>\n",
       "      <td>6.000000</td>\n",
       "      <td>5.000000</td>\n",
       "      <td>2.536078</td>\n",
       "      <td>2.510336</td>\n",
       "      <td>1.000000</td>\n",
       "    </tr>\n",
       "    <tr>\n",
       "      <td>max</td>\n",
       "      <td>1.000000</td>\n",
       "      <td>1.000000</td>\n",
       "      <td>1.000000</td>\n",
       "      <td>1.000000</td>\n",
       "      <td>1.000000</td>\n",
       "      <td>12.000000</td>\n",
       "      <td>1.000000</td>\n",
       "      <td>41.000000</td>\n",
       "      <td>552.590740</td>\n",
       "      <td>12.000000</td>\n",
       "      <td>31.000000</td>\n",
       "      <td>6.023668</td>\n",
       "      <td>6.146783</td>\n",
       "      <td>1.000000</td>\n",
       "    </tr>\n",
       "  </tbody>\n",
       "</table>\n",
       "</div>"
      ],
      "text/plain": [
       "            gender  Near_Location      Partner  Promo_friends        Phone  \\\n",
       "count  4000.000000    4000.000000  4000.000000    4000.000000  4000.000000   \n",
       "mean      0.510250       0.845250     0.486750       0.308500     0.903500   \n",
       "std       0.499957       0.361711     0.499887       0.461932     0.295313   \n",
       "min       0.000000       0.000000     0.000000       0.000000     0.000000   \n",
       "25%       0.000000       1.000000     0.000000       0.000000     1.000000   \n",
       "50%       1.000000       1.000000     0.000000       0.000000     1.000000   \n",
       "75%       1.000000       1.000000     1.000000       1.000000     1.000000   \n",
       "max       1.000000       1.000000     1.000000       1.000000     1.000000   \n",
       "\n",
       "       Contract_period  Group_visits          Age  \\\n",
       "count      4000.000000   4000.000000  4000.000000   \n",
       "mean          4.681250      0.412250    29.184250   \n",
       "std           4.549706      0.492301     3.258367   \n",
       "min           1.000000      0.000000    18.000000   \n",
       "25%           1.000000      0.000000    27.000000   \n",
       "50%           1.000000      0.000000    29.000000   \n",
       "75%           6.000000      1.000000    31.000000   \n",
       "max          12.000000      1.000000    41.000000   \n",
       "\n",
       "       Avg_additional_charges_total  Month_to_end_contract     Lifetime  \\\n",
       "count                   4000.000000            4000.000000  4000.000000   \n",
       "mean                     146.943728               4.322750     3.724750   \n",
       "std                       96.355602               4.191297     3.749267   \n",
       "min                        0.148205               1.000000     0.000000   \n",
       "25%                       68.868830               1.000000     1.000000   \n",
       "50%                      136.220159               1.000000     3.000000   \n",
       "75%                      210.949625               6.000000     5.000000   \n",
       "max                      552.590740              12.000000    31.000000   \n",
       "\n",
       "       Avg_class_frequency_total  Avg_class_frequency_current_month  \\\n",
       "count                4000.000000                        4000.000000   \n",
       "mean                    1.879020                           1.767052   \n",
       "std                     0.972245                           1.052906   \n",
       "min                     0.000000                           0.000000   \n",
       "25%                     1.180875                           0.963003   \n",
       "50%                     1.832768                           1.719574   \n",
       "75%                     2.536078                           2.510336   \n",
       "max                     6.023668                           6.146783   \n",
       "\n",
       "             Churn  \n",
       "count  4000.000000  \n",
       "mean      0.265250  \n",
       "std       0.441521  \n",
       "min       0.000000  \n",
       "25%       0.000000  \n",
       "50%       0.000000  \n",
       "75%       1.000000  \n",
       "max       1.000000  "
      ]
     },
     "execution_count": 7,
     "metadata": {},
     "output_type": "execute_result"
    }
   ],
   "source": [
    "#  Look at the dataset: mean values and standard deviation.\n",
    "data.describe(include='all')"
   ]
  },
  {
   "cell_type": "markdown",
   "metadata": {},
   "source": [
    "Typical client is about 29 y.o., he/she probably has 6 month contract, live (or work) nearby, visiting Fitness about 2 times a month and spending about 150 USD a month for additional charges. It could be any of two genders, with almost equal probability."
   ]
  },
  {
   "cell_type": "code",
   "execution_count": 8,
   "metadata": {},
   "outputs": [
    {
     "data": {
      "text/html": [
       "<div>\n",
       "<style scoped>\n",
       "    .dataframe tbody tr th:only-of-type {\n",
       "        vertical-align: middle;\n",
       "    }\n",
       "\n",
       "    .dataframe tbody tr th {\n",
       "        vertical-align: top;\n",
       "    }\n",
       "\n",
       "    .dataframe thead th {\n",
       "        text-align: right;\n",
       "    }\n",
       "</style>\n",
       "<table border=\"1\" class=\"dataframe\">\n",
       "  <thead>\n",
       "    <tr style=\"text-align: right;\">\n",
       "      <th></th>\n",
       "      <th>gender</th>\n",
       "      <th>Near_Location</th>\n",
       "      <th>Partner</th>\n",
       "      <th>Promo_friends</th>\n",
       "      <th>Phone</th>\n",
       "      <th>Contract_period</th>\n",
       "      <th>Group_visits</th>\n",
       "      <th>Age</th>\n",
       "      <th>Avg_additional_charges_total</th>\n",
       "      <th>Month_to_end_contract</th>\n",
       "      <th>Lifetime</th>\n",
       "      <th>Avg_class_frequency_total</th>\n",
       "      <th>Avg_class_frequency_current_month</th>\n",
       "    </tr>\n",
       "    <tr>\n",
       "      <th>Churn</th>\n",
       "      <th></th>\n",
       "      <th></th>\n",
       "      <th></th>\n",
       "      <th></th>\n",
       "      <th></th>\n",
       "      <th></th>\n",
       "      <th></th>\n",
       "      <th></th>\n",
       "      <th></th>\n",
       "      <th></th>\n",
       "      <th></th>\n",
       "      <th></th>\n",
       "      <th></th>\n",
       "    </tr>\n",
       "  </thead>\n",
       "  <tbody>\n",
       "    <tr>\n",
       "      <td>0</td>\n",
       "      <td>0.510037</td>\n",
       "      <td>0.873086</td>\n",
       "      <td>0.534195</td>\n",
       "      <td>0.353522</td>\n",
       "      <td>0.903709</td>\n",
       "      <td>5.747193</td>\n",
       "      <td>0.464103</td>\n",
       "      <td>29.976523</td>\n",
       "      <td>158.445715</td>\n",
       "      <td>5.283089</td>\n",
       "      <td>4.711807</td>\n",
       "      <td>2.024876</td>\n",
       "      <td>2.027882</td>\n",
       "    </tr>\n",
       "    <tr>\n",
       "      <td>1</td>\n",
       "      <td>0.510839</td>\n",
       "      <td>0.768143</td>\n",
       "      <td>0.355325</td>\n",
       "      <td>0.183789</td>\n",
       "      <td>0.902922</td>\n",
       "      <td>1.728558</td>\n",
       "      <td>0.268615</td>\n",
       "      <td>26.989632</td>\n",
       "      <td>115.082899</td>\n",
       "      <td>1.662582</td>\n",
       "      <td>0.990575</td>\n",
       "      <td>1.474995</td>\n",
       "      <td>1.044546</td>\n",
       "    </tr>\n",
       "  </tbody>\n",
       "</table>\n",
       "</div>"
      ],
      "text/plain": [
       "         gender  Near_Location   Partner  Promo_friends     Phone  \\\n",
       "Churn                                                               \n",
       "0      0.510037       0.873086  0.534195       0.353522  0.903709   \n",
       "1      0.510839       0.768143  0.355325       0.183789  0.902922   \n",
       "\n",
       "       Contract_period  Group_visits        Age  Avg_additional_charges_total  \\\n",
       "Churn                                                                           \n",
       "0             5.747193      0.464103  29.976523                    158.445715   \n",
       "1             1.728558      0.268615  26.989632                    115.082899   \n",
       "\n",
       "       Month_to_end_contract  Lifetime  Avg_class_frequency_total  \\\n",
       "Churn                                                               \n",
       "0                   5.283089  4.711807                   2.024876   \n",
       "1                   1.662582  0.990575                   1.474995   \n",
       "\n",
       "       Avg_class_frequency_current_month  \n",
       "Churn                                     \n",
       "0                               2.027882  \n",
       "1                               1.044546  "
      ]
     },
     "execution_count": 8,
     "metadata": {},
     "output_type": "execute_result"
    }
   ],
   "source": [
    "# Look at the mean feature values in two groups: for those who left (churn) and for those who stayed.\n",
    "data.groupby('Churn').mean()"
   ]
  },
  {
   "cell_type": "markdown",
   "metadata": {},
   "source": [
    "We can see that some mean feature values differ for two groups. For those who stayed, means of 'Near Location', 'Partner', 'Promo Friends', 'Contract period', 'Group Visits', 'Age', 'Avg additional charges total', 'Month to end contract', 'Lifetime', 'Avg class frequency total', 'Avg class frequency current month' are higher than for those who churn. Means of 'gender' and 'Phone' does not differ considerably."
   ]
  },
  {
   "cell_type": "code",
   "execution_count": 9,
   "metadata": {},
   "outputs": [
    {
     "data": {
      "text/plain": [
       "''"
      ]
     },
     "execution_count": 9,
     "metadata": {},
     "output_type": "execute_result"
    },
    {
     "data": {
      "image/png": "[encoded data removed]",
      "text/plain": [
       "<Figure size 1008x1008 with 16 Axes>"
      ]
     },
     "metadata": {
      "needs_background": "light"
     },
     "output_type": "display_data"
    },
    {
     "data": {
      "image/png": "[encoded data removed]",
      "text/plain": [
       "<Figure size 1008x1008 with 16 Axes>"
      ]
     },
     "metadata": {
      "needs_background": "light"
     },
     "output_type": "display_data"
    }
   ],
   "source": [
    "# Plot bar histograms and feature distributions for those who stayed - first bunch, \n",
    "# and for those who left (churn) - second bunch.\n",
    "data.groupby('Churn').hist(figsize=(14,14))\n",
    "\"\""
   ]
  },
  {
   "cell_type": "markdown",
   "metadata": {},
   "source": [
    "We plot bar histograms and feature distributions for those who stayed (first bunch of bar histograms) and  for those who left (second bunch of bar histograms). Feature 'Age' has normal distribution for both groups. Features 'Avg additional charges total', 'Avg class frequency current month', 'Avg class frequency total' shows skewed normal distribution. 'Avg class frequency current month' for those who left demonstrates alarming peak on '0'. That must be very important feature so. 'Contract Period' could be telling a lot on user intentions, as we see predominant one-two-month contracts among those who left. On the contrary, we can see fair distribution of short and six-twelf-month contracts in those who stayed. Feature 'Group Visits' supports those who stayed, as well as feature 'Partner'. Feature 'Lifetime' naturally go longer for those who stayed. Feature 'Month to end contract' seem to just follow the 'Contract Period' feature. Features 'Near Location', 'Phone', 'Promo Friends' and 'Gender' seem to be insignificant and not influencing factors."
   ]
  },
  {
   "cell_type": "code",
   "execution_count": 10,
   "metadata": {},
   "outputs": [
    {
     "data": {
      "image/png": "[encoded data removed]",
      "text/plain": [
       "<Figure size 720x720 with 2 Axes>"
      ]
     },
     "metadata": {
      "needs_background": "light"
     },
     "output_type": "display_data"
    }
   ],
   "source": [
    "# build and render a correlation matrix\n",
    "cm = data.corr() # calculate correlation matrix\n",
    "fig, ax = plt.subplots(figsize=(10,10))\n",
    "\n",
    "# plot an annotated heatmap for the correlation matrix\n",
    "sns.heatmap(cm, annot = True, square = True)\n",
    "plt.show()"
   ]
  },
  {
   "cell_type": "markdown",
   "metadata": {},
   "source": [
    "We build a correlation matrix and display it in the form of heatmap. From this matrix we can see that there is a strong correlation between features 'Avg class frequency total'and 'Avg class frequency current month', namely, 0.95; and 'Month to end contract' and 'Contract period', 0.97. Other features do not demonstrate any considerable correlation."
   ]
  },
  {
   "cell_type": "markdown",
   "metadata": {},
   "source": [
    "## Conclusion"
   ]
  },
  {
   "cell_type": "markdown",
   "metadata": {},
   "source": [
    "The data look good. There are no missing values, all min, max, means and standard deviation look meaningful, that means there are no outliers in the dataset provided. The data types are proper, although could be reduced from int64 , this is not necessary because total data volume is quite small.\n",
    "\n",
    "We look at the mean feature values in two groups: for those who left (churn) and for those who stayed (using the groupby() method).\n",
    "\n",
    "We plot bar histograms and feature distributions for those who stayed (first bunch of bar histograms) and for those who left (second bunch of bar histograms). Feature 'Age' has normal distribution for both groups. Features 'Avg additional charges total', 'Avg class frequency current month', 'Avg class frequency total' shows skewed normal distribution. 'Avg class frequency current month' for those who left demonstrates alarming peak on '0'. That must be very important feature so. 'Contract Period' could be telling a lot on user intentions, as we see predominant one-two-month contracts among those who left. On the contrary, we can see fair distribution of short and six-twelf-month contracts in those who stayed. Feature 'Group Visits' supports those who stayed, as well as feature 'Partner'. Feature 'Lifetime' naturally go longer for those who stayed. Feature 'Month to end contract' seem to just follow the 'Contract Period' feature. Features 'Near Location', 'Phone', 'Promo Friends' and 'Gender' seem to be insignificant and not influencing factors.\n",
    "\n",
    "We build a correlation matrix and display it in the form of heatmap. From this matrix we can see that there is a strong correlation between features 'Avg class frequency total'and 'Avg class frequency current month', namely, 0.95; and 'Month to end contract' and 'Contract period', 0.97. Other features do not demonstrate any considerable correlation."
   ]
  },
  {
   "cell_type": "markdown",
   "metadata": {},
   "source": [
    "## Step 3. Build a model to predict user churn\n",
    "Build a binary classification model for customers where the target feature is the user's leaving next month.\n",
    "\n",
    "- Divide the data into train and validation sets using the train_test_split() function.\n",
    "- Train the model on the train set with two methods:\n",
    "\n",
    "  - logistic regression\n",
    "  - random forest\n",
    "- Evaluate accuracy, precision, and recall for both models using the validation data. Use them to compare the models. Which model gave better results?\n",
    "\n",
    "Remember to indicate the random_state parameter when dividing data and defining the algorithm."
   ]
  },
  {
   "cell_type": "code",
   "execution_count": 11,
   "metadata": {},
   "outputs": [],
   "source": [
    "# divide the data into features (the X matrix) and a target variable (y)\n",
    "X = data.drop('Churn', axis = 1)\n",
    "y = data['Churn']\n",
    "\n",
    "# divide the data into train and test sets\n",
    "X_train, X_test, y_train, y_test = train_test_split(X, y, test_size=0.2, random_state=0)\n",
    "\n",
    "# create a StandardScaler object and apply it to the train set\n",
    "scaler = StandardScaler()\n",
    "X_train_st = scaler.fit_transform(X_train) # train the scaler and transform the matrix for the train set\n",
    "\n",
    "# apply standardization to the feature matrix for the test set\n",
    "X_test_st = scaler.transform(X_test)"
   ]
  },
  {
   "cell_type": "code",
   "execution_count": 12,
   "metadata": {},
   "outputs": [
    {
     "name": "stdout",
     "output_type": "stream",
     "text": [
      "Logistic Regression Model:\n",
      "Accuracy: 0.93\n",
      "Precision: 0.86\n",
      "Recall: 0.83\n"
     ]
    }
   ],
   "source": [
    "# define the model's algorithm Logistic Regression\n",
    "model = LogisticRegression(random_state=0)\n",
    "\n",
    "# train your model\n",
    "model.fit(X_train, y_train)\n",
    "\n",
    "# binary prediction\n",
    "predictions = model.predict(X_test)\n",
    "\n",
    "# print the studied metrics for the resulting prediction\n",
    "print('Logistic Regression Model:')\n",
    "print('Accuracy: {:.2f}'.format(accuracy_score(y_test, predictions)))\n",
    "print('Precision: {:.2f}'.format(precision_score(y_test, predictions)))\n",
    "print('Recall: {:.2f}'.format(recall_score(y_test, predictions)))"
   ]
  },
  {
   "cell_type": "code",
   "execution_count": 13,
   "metadata": {},
   "outputs": [
    {
     "name": "stdout",
     "output_type": "stream",
     "text": [
      "Random Forest Model:\n",
      "Accuracy: 0.91\n",
      "Precision: 0.83\n",
      "Recall: 0.78\n"
     ]
    }
   ],
   "source": [
    "# define the model's algorithm Random Forest\n",
    "model = RandomForestClassifier(random_state=0)\n",
    "\n",
    "# train your model\n",
    "model.fit(X_train, y_train)\n",
    "\n",
    "# binary prediction\n",
    "predictions = model.predict(X_test)\n",
    "\n",
    "# print the studied metrics for the resulting prediction\n",
    "print('Random Forest Model:')\n",
    "print('Accuracy: {:.2f}'.format(accuracy_score(y_test, predictions)))\n",
    "print('Precision: {:.2f}'.format(precision_score(y_test, predictions)))\n",
    "print('Recall: {:.2f}'.format(recall_score(y_test, predictions)))   "
   ]
  },
  {
   "cell_type": "markdown",
   "metadata": {},
   "source": [
    "## Conclusion\n",
    "\n",
    "We build a binary classification model for customers where the target feature is the user's leaving next month.\n",
    "\n",
    "We divide the data into train and validation sets using the train_test_split() function. We indicate the random_state = 0 parameter when dividing data and defining the algorithm. We train the model on the train set with two methods:\n",
    "\n",
    "- logistic regression\n",
    "- random forest\n",
    "\n",
    "We evaluate accuracy, precision, and recall for both models using the validation data. We use them to compare the models. Logistic Regression Model (Accuracy: 0.93, Precision: 0.86, Recall: 0.83) gave better results than Random Forest Model (Accuracy: 0.91, Precision: 0.83, Recall: 0.78)."
   ]
  },
  {
   "cell_type": "markdown",
   "metadata": {},
   "source": [
    "All metric for Logistic Regression Mode exceed ones for other model. I believe Recall is the most important metric for our task."
   ]
  },
  {
   "cell_type": "markdown",
   "metadata": {},
   "source": [
    "## Step 4. Create user clusters\n",
    "\n",
    "Set aside the column with data on churn and identify object (user) clusters:\n",
    "\n",
    "- Standardize the data.\n",
    "\n",
    "- Use the linkage() function to build a matrix of distances based on the standardized feature matrix and plot a dendrogram. Note: rendering the dendrogram may take time! Use the resulting graph to estimate the number of clusters you can single out.\n",
    "\n",
    "- Train the clustering model with the K-means algorithm and predict customer clusters. (Let the number of clusters be n=5).\n",
    "\n",
    "- Look at the mean feature values for clusters. Does anything catch your eye?\n",
    "\n",
    "- Plot distributions of features for the clusters. Do you notice anything?\n",
    "\n",
    "- Calculate the churn rate for each cluster (use the groupby() method). Do they differ in terms of churn rate? Which clusters are prone to leaving, and which are loyal?"
   ]
  },
  {
   "cell_type": "code",
   "execution_count": 14,
   "metadata": {},
   "outputs": [],
   "source": [
    "# the standardization of data before passing it to the algorithm\n",
    "sc = StandardScaler()\n",
    "X_sc = sc.fit_transform(X)"
   ]
  },
  {
   "cell_type": "code",
   "execution_count": 15,
   "metadata": {},
   "outputs": [],
   "source": [
    "# the linkage() function to build a matrix of distances based on the standardized feature matrix\n",
    "linked = linkage(X_sc, method = 'ward')"
   ]
  },
  {
   "cell_type": "code",
   "execution_count": 16,
   "metadata": {},
   "outputs": [
    {
     "data": {
      "image/png": "[encoded data removed]",
      "text/plain": [
       "<Figure size 1080x720 with 1 Axes>"
      ]
     },
     "metadata": {
      "needs_background": "light"
     },
     "output_type": "display_data"
    }
   ],
   "source": [
    "# plot a dendrogram\n",
    "plt.figure(figsize=(15, 10))  \n",
    "dendrogram(linked, orientation='top')\n",
    "plt.title('Hierarchical clustering for Model Fitness')\n",
    "plt.show()"
   ]
  },
  {
   "cell_type": "markdown",
   "metadata": {},
   "source": [
    "We plot a dendrogram to visualize clustering and use the plot to estimate the number of clusters we can single out. From the dendrogram we can see that 4 would be the optimal number of clusters."
   ]
  },
  {
   "cell_type": "code",
   "execution_count": 24,
   "metadata": {},
   "outputs": [],
   "source": [
    "# now launch the faster K-means algorithm with n_clusters = 5.\n",
    "km = KMeans(n_clusters = 5, random_state=0) # setting the number of clusters as 5\n",
    "labels = km.fit_predict(X_sc) # applying the algorithm to the data and forming a cluster vector"
   ]
  },
  {
   "cell_type": "code",
   "execution_count": 18,
   "metadata": {},
   "outputs": [
    {
     "data": {
      "text/plain": [
       "4000"
      ]
     },
     "execution_count": 18,
     "metadata": {},
     "output_type": "execute_result"
    }
   ],
   "source": [
    "labels\n",
    "len(list(labels))"
   ]
  },
  {
   "cell_type": "code",
   "execution_count": 19,
   "metadata": {},
   "outputs": [
    {
     "data": {
      "text/html": [
       "<div>\n",
       "<style scoped>\n",
       "    .dataframe tbody tr th:only-of-type {\n",
       "        vertical-align: middle;\n",
       "    }\n",
       "\n",
       "    .dataframe tbody tr th {\n",
       "        vertical-align: top;\n",
       "    }\n",
       "\n",
       "    .dataframe thead th {\n",
       "        text-align: right;\n",
       "    }\n",
       "</style>\n",
       "<table border=\"1\" class=\"dataframe\">\n",
       "  <thead>\n",
       "    <tr style=\"text-align: right;\">\n",
       "      <th></th>\n",
       "      <th>gender</th>\n",
       "      <th>Near_Location</th>\n",
       "      <th>Partner</th>\n",
       "      <th>Promo_friends</th>\n",
       "      <th>Phone</th>\n",
       "      <th>Contract_period</th>\n",
       "      <th>Group_visits</th>\n",
       "      <th>Age</th>\n",
       "      <th>Avg_additional_charges_total</th>\n",
       "      <th>Month_to_end_contract</th>\n",
       "      <th>Lifetime</th>\n",
       "      <th>Avg_class_frequency_total</th>\n",
       "      <th>Avg_class_frequency_current_month</th>\n",
       "      <th>Churn</th>\n",
       "      <th>clusters</th>\n",
       "    </tr>\n",
       "  </thead>\n",
       "  <tbody>\n",
       "    <tr>\n",
       "      <td>0</td>\n",
       "      <td>1</td>\n",
       "      <td>1</td>\n",
       "      <td>1</td>\n",
       "      <td>1</td>\n",
       "      <td>0</td>\n",
       "      <td>6</td>\n",
       "      <td>1</td>\n",
       "      <td>29</td>\n",
       "      <td>14.227470</td>\n",
       "      <td>5.0</td>\n",
       "      <td>3</td>\n",
       "      <td>0.020398</td>\n",
       "      <td>0.000000</td>\n",
       "      <td>0</td>\n",
       "      <td>2</td>\n",
       "    </tr>\n",
       "    <tr>\n",
       "      <td>1</td>\n",
       "      <td>0</td>\n",
       "      <td>1</td>\n",
       "      <td>0</td>\n",
       "      <td>0</td>\n",
       "      <td>1</td>\n",
       "      <td>12</td>\n",
       "      <td>1</td>\n",
       "      <td>31</td>\n",
       "      <td>113.202938</td>\n",
       "      <td>12.0</td>\n",
       "      <td>7</td>\n",
       "      <td>1.922936</td>\n",
       "      <td>1.910244</td>\n",
       "      <td>0</td>\n",
       "      <td>0</td>\n",
       "    </tr>\n",
       "    <tr>\n",
       "      <td>2</td>\n",
       "      <td>0</td>\n",
       "      <td>1</td>\n",
       "      <td>1</td>\n",
       "      <td>0</td>\n",
       "      <td>1</td>\n",
       "      <td>1</td>\n",
       "      <td>0</td>\n",
       "      <td>28</td>\n",
       "      <td>129.448479</td>\n",
       "      <td>1.0</td>\n",
       "      <td>2</td>\n",
       "      <td>1.859098</td>\n",
       "      <td>1.736502</td>\n",
       "      <td>0</td>\n",
       "      <td>4</td>\n",
       "    </tr>\n",
       "    <tr>\n",
       "      <td>3</td>\n",
       "      <td>0</td>\n",
       "      <td>1</td>\n",
       "      <td>1</td>\n",
       "      <td>1</td>\n",
       "      <td>1</td>\n",
       "      <td>12</td>\n",
       "      <td>1</td>\n",
       "      <td>33</td>\n",
       "      <td>62.669863</td>\n",
       "      <td>12.0</td>\n",
       "      <td>2</td>\n",
       "      <td>3.205633</td>\n",
       "      <td>3.357215</td>\n",
       "      <td>0</td>\n",
       "      <td>0</td>\n",
       "    </tr>\n",
       "    <tr>\n",
       "      <td>4</td>\n",
       "      <td>1</td>\n",
       "      <td>1</td>\n",
       "      <td>1</td>\n",
       "      <td>1</td>\n",
       "      <td>1</td>\n",
       "      <td>1</td>\n",
       "      <td>0</td>\n",
       "      <td>26</td>\n",
       "      <td>198.362265</td>\n",
       "      <td>1.0</td>\n",
       "      <td>3</td>\n",
       "      <td>1.113884</td>\n",
       "      <td>1.120078</td>\n",
       "      <td>0</td>\n",
       "      <td>2</td>\n",
       "    </tr>\n",
       "    <tr>\n",
       "      <td>...</td>\n",
       "      <td>...</td>\n",
       "      <td>...</td>\n",
       "      <td>...</td>\n",
       "      <td>...</td>\n",
       "      <td>...</td>\n",
       "      <td>...</td>\n",
       "      <td>...</td>\n",
       "      <td>...</td>\n",
       "      <td>...</td>\n",
       "      <td>...</td>\n",
       "      <td>...</td>\n",
       "      <td>...</td>\n",
       "      <td>...</td>\n",
       "      <td>...</td>\n",
       "      <td>...</td>\n",
       "    </tr>\n",
       "    <tr>\n",
       "      <td>3995</td>\n",
       "      <td>1</td>\n",
       "      <td>1</td>\n",
       "      <td>1</td>\n",
       "      <td>0</td>\n",
       "      <td>1</td>\n",
       "      <td>12</td>\n",
       "      <td>0</td>\n",
       "      <td>33</td>\n",
       "      <td>2.406023</td>\n",
       "      <td>12.0</td>\n",
       "      <td>8</td>\n",
       "      <td>2.284497</td>\n",
       "      <td>2.349070</td>\n",
       "      <td>0</td>\n",
       "      <td>0</td>\n",
       "    </tr>\n",
       "    <tr>\n",
       "      <td>3996</td>\n",
       "      <td>0</td>\n",
       "      <td>1</td>\n",
       "      <td>0</td>\n",
       "      <td>0</td>\n",
       "      <td>1</td>\n",
       "      <td>1</td>\n",
       "      <td>1</td>\n",
       "      <td>29</td>\n",
       "      <td>68.883764</td>\n",
       "      <td>1.0</td>\n",
       "      <td>1</td>\n",
       "      <td>1.277168</td>\n",
       "      <td>0.292859</td>\n",
       "      <td>1</td>\n",
       "      <td>4</td>\n",
       "    </tr>\n",
       "    <tr>\n",
       "      <td>3997</td>\n",
       "      <td>1</td>\n",
       "      <td>1</td>\n",
       "      <td>1</td>\n",
       "      <td>1</td>\n",
       "      <td>1</td>\n",
       "      <td>12</td>\n",
       "      <td>0</td>\n",
       "      <td>28</td>\n",
       "      <td>78.250542</td>\n",
       "      <td>11.0</td>\n",
       "      <td>2</td>\n",
       "      <td>2.786146</td>\n",
       "      <td>2.831439</td>\n",
       "      <td>0</td>\n",
       "      <td>0</td>\n",
       "    </tr>\n",
       "    <tr>\n",
       "      <td>3998</td>\n",
       "      <td>0</td>\n",
       "      <td>1</td>\n",
       "      <td>1</td>\n",
       "      <td>1</td>\n",
       "      <td>1</td>\n",
       "      <td>6</td>\n",
       "      <td>0</td>\n",
       "      <td>32</td>\n",
       "      <td>61.912657</td>\n",
       "      <td>5.0</td>\n",
       "      <td>3</td>\n",
       "      <td>1.630108</td>\n",
       "      <td>1.596237</td>\n",
       "      <td>0</td>\n",
       "      <td>2</td>\n",
       "    </tr>\n",
       "    <tr>\n",
       "      <td>3999</td>\n",
       "      <td>1</td>\n",
       "      <td>0</td>\n",
       "      <td>1</td>\n",
       "      <td>0</td>\n",
       "      <td>0</td>\n",
       "      <td>12</td>\n",
       "      <td>1</td>\n",
       "      <td>30</td>\n",
       "      <td>178.861814</td>\n",
       "      <td>12.0</td>\n",
       "      <td>1</td>\n",
       "      <td>1.101832</td>\n",
       "      <td>1.035270</td>\n",
       "      <td>0</td>\n",
       "      <td>0</td>\n",
       "    </tr>\n",
       "  </tbody>\n",
       "</table>\n",
       "<p>4000 rows × 15 columns</p>\n",
       "</div>"
      ],
      "text/plain": [
       "      gender  Near_Location  Partner  Promo_friends  Phone  Contract_period  \\\n",
       "0          1              1        1              1      0                6   \n",
       "1          0              1        0              0      1               12   \n",
       "2          0              1        1              0      1                1   \n",
       "3          0              1        1              1      1               12   \n",
       "4          1              1        1              1      1                1   \n",
       "...      ...            ...      ...            ...    ...              ...   \n",
       "3995       1              1        1              0      1               12   \n",
       "3996       0              1        0              0      1                1   \n",
       "3997       1              1        1              1      1               12   \n",
       "3998       0              1        1              1      1                6   \n",
       "3999       1              0        1              0      0               12   \n",
       "\n",
       "      Group_visits  Age  Avg_additional_charges_total  Month_to_end_contract  \\\n",
       "0                1   29                     14.227470                    5.0   \n",
       "1                1   31                    113.202938                   12.0   \n",
       "2                0   28                    129.448479                    1.0   \n",
       "3                1   33                     62.669863                   12.0   \n",
       "4                0   26                    198.362265                    1.0   \n",
       "...            ...  ...                           ...                    ...   \n",
       "3995             0   33                      2.406023                   12.0   \n",
       "3996             1   29                     68.883764                    1.0   \n",
       "3997             0   28                     78.250542                   11.0   \n",
       "3998             0   32                     61.912657                    5.0   \n",
       "3999             1   30                    178.861814                   12.0   \n",
       "\n",
       "      Lifetime  Avg_class_frequency_total  Avg_class_frequency_current_month  \\\n",
       "0            3                   0.020398                           0.000000   \n",
       "1            7                   1.922936                           1.910244   \n",
       "2            2                   1.859098                           1.736502   \n",
       "3            2                   3.205633                           3.357215   \n",
       "4            3                   1.113884                           1.120078   \n",
       "...        ...                        ...                                ...   \n",
       "3995         8                   2.284497                           2.349070   \n",
       "3996         1                   1.277168                           0.292859   \n",
       "3997         2                   2.786146                           2.831439   \n",
       "3998         3                   1.630108                           1.596237   \n",
       "3999         1                   1.101832                           1.035270   \n",
       "\n",
       "      Churn  clusters  \n",
       "0         0         2  \n",
       "1         0         0  \n",
       "2         0         4  \n",
       "3         0         0  \n",
       "4         0         2  \n",
       "...     ...       ...  \n",
       "3995      0         0  \n",
       "3996      1         4  \n",
       "3997      0         0  \n",
       "3998      0         2  \n",
       "3999      0         0  \n",
       "\n",
       "[4000 rows x 15 columns]"
      ]
     },
     "execution_count": 19,
     "metadata": {},
     "output_type": "execute_result"
    }
   ],
   "source": [
    "data['clusters'] = labels\n",
    "data"
   ]
  },
  {
   "cell_type": "code",
   "execution_count": 20,
   "metadata": {},
   "outputs": [
    {
     "data": {
      "text/plain": [
       "3     546\n",
       "2     634\n",
       "1     752\n",
       "0     936\n",
       "4    1132\n",
       "Name: clusters, dtype: int64"
      ]
     },
     "execution_count": 20,
     "metadata": {},
     "output_type": "execute_result"
    }
   ],
   "source": [
    "data['clusters'].value_counts().sort_index().sort_values()"
   ]
  },
  {
   "cell_type": "code",
   "execution_count": 21,
   "metadata": {},
   "outputs": [
    {
     "data": {
      "text/html": [
       "<div>\n",
       "<style scoped>\n",
       "    .dataframe tbody tr th:only-of-type {\n",
       "        vertical-align: middle;\n",
       "    }\n",
       "\n",
       "    .dataframe tbody tr th {\n",
       "        vertical-align: top;\n",
       "    }\n",
       "\n",
       "    .dataframe thead th {\n",
       "        text-align: right;\n",
       "    }\n",
       "</style>\n",
       "<table border=\"1\" class=\"dataframe\">\n",
       "  <thead>\n",
       "    <tr style=\"text-align: right;\">\n",
       "      <th></th>\n",
       "      <th>gender</th>\n",
       "      <th>Near_Location</th>\n",
       "      <th>Partner</th>\n",
       "      <th>Promo_friends</th>\n",
       "      <th>Phone</th>\n",
       "      <th>Contract_period</th>\n",
       "      <th>Group_visits</th>\n",
       "      <th>Age</th>\n",
       "      <th>Avg_additional_charges_total</th>\n",
       "      <th>Month_to_end_contract</th>\n",
       "      <th>Lifetime</th>\n",
       "      <th>Avg_class_frequency_total</th>\n",
       "      <th>Avg_class_frequency_current_month</th>\n",
       "    </tr>\n",
       "    <tr>\n",
       "      <th>clusters</th>\n",
       "      <th></th>\n",
       "      <th></th>\n",
       "      <th></th>\n",
       "      <th></th>\n",
       "      <th></th>\n",
       "      <th></th>\n",
       "      <th></th>\n",
       "      <th></th>\n",
       "      <th></th>\n",
       "      <th></th>\n",
       "      <th></th>\n",
       "      <th></th>\n",
       "      <th></th>\n",
       "    </tr>\n",
       "  </thead>\n",
       "  <tbody>\n",
       "    <tr>\n",
       "      <td>0</td>\n",
       "      <td>0.501068</td>\n",
       "      <td>0.944444</td>\n",
       "      <td>0.741453</td>\n",
       "      <td>0.489316</td>\n",
       "      <td>0.900641</td>\n",
       "      <td>11.878205</td>\n",
       "      <td>0.552350</td>\n",
       "      <td>29.913462</td>\n",
       "      <td>164.843651</td>\n",
       "      <td>10.869658</td>\n",
       "      <td>4.705128</td>\n",
       "      <td>1.991983</td>\n",
       "      <td>1.983475</td>\n",
       "    </tr>\n",
       "    <tr>\n",
       "      <td>1</td>\n",
       "      <td>0.593085</td>\n",
       "      <td>0.972074</td>\n",
       "      <td>0.281915</td>\n",
       "      <td>0.117021</td>\n",
       "      <td>0.894947</td>\n",
       "      <td>2.909574</td>\n",
       "      <td>0.484043</td>\n",
       "      <td>30.319149</td>\n",
       "      <td>162.953822</td>\n",
       "      <td>2.666223</td>\n",
       "      <td>5.180851</td>\n",
       "      <td>2.924785</td>\n",
       "      <td>2.929752</td>\n",
       "    </tr>\n",
       "    <tr>\n",
       "      <td>2</td>\n",
       "      <td>0.485804</td>\n",
       "      <td>1.000000</td>\n",
       "      <td>0.805994</td>\n",
       "      <td>1.000000</td>\n",
       "      <td>0.908517</td>\n",
       "      <td>3.102524</td>\n",
       "      <td>0.451104</td>\n",
       "      <td>29.078864</td>\n",
       "      <td>140.097349</td>\n",
       "      <td>2.881703</td>\n",
       "      <td>3.610410</td>\n",
       "      <td>1.682177</td>\n",
       "      <td>1.565955</td>\n",
       "    </tr>\n",
       "    <tr>\n",
       "      <td>3</td>\n",
       "      <td>0.494505</td>\n",
       "      <td>0.000000</td>\n",
       "      <td>0.465201</td>\n",
       "      <td>0.076923</td>\n",
       "      <td>0.915751</td>\n",
       "      <td>2.225275</td>\n",
       "      <td>0.214286</td>\n",
       "      <td>28.478022</td>\n",
       "      <td>134.126172</td>\n",
       "      <td>2.089744</td>\n",
       "      <td>2.805861</td>\n",
       "      <td>1.659607</td>\n",
       "      <td>1.469327</td>\n",
       "    </tr>\n",
       "    <tr>\n",
       "      <td>4</td>\n",
       "      <td>0.484099</td>\n",
       "      <td>1.000000</td>\n",
       "      <td>0.243816</td>\n",
       "      <td>0.010601</td>\n",
       "      <td>0.902827</td>\n",
       "      <td>1.976148</td>\n",
       "      <td>0.322438</td>\n",
       "      <td>28.227032</td>\n",
       "      <td>131.524179</td>\n",
       "      <td>1.893993</td>\n",
       "      <td>2.454064</td>\n",
       "      <td>1.306977</td>\n",
       "      <td>1.071938</td>\n",
       "    </tr>\n",
       "  </tbody>\n",
       "</table>\n",
       "</div>"
      ],
      "text/plain": [
       "            gender  Near_Location   Partner  Promo_friends     Phone  \\\n",
       "clusters                                                               \n",
       "0         0.501068       0.944444  0.741453       0.489316  0.900641   \n",
       "1         0.593085       0.972074  0.281915       0.117021  0.894947   \n",
       "2         0.485804       1.000000  0.805994       1.000000  0.908517   \n",
       "3         0.494505       0.000000  0.465201       0.076923  0.915751   \n",
       "4         0.484099       1.000000  0.243816       0.010601  0.902827   \n",
       "\n",
       "          Contract_period  Group_visits        Age  \\\n",
       "clusters                                             \n",
       "0               11.878205      0.552350  29.913462   \n",
       "1                2.909574      0.484043  30.319149   \n",
       "2                3.102524      0.451104  29.078864   \n",
       "3                2.225275      0.214286  28.478022   \n",
       "4                1.976148      0.322438  28.227032   \n",
       "\n",
       "          Avg_additional_charges_total  Month_to_end_contract  Lifetime  \\\n",
       "clusters                                                                  \n",
       "0                           164.843651              10.869658  4.705128   \n",
       "1                           162.953822               2.666223  5.180851   \n",
       "2                           140.097349               2.881703  3.610410   \n",
       "3                           134.126172               2.089744  2.805861   \n",
       "4                           131.524179               1.893993  2.454064   \n",
       "\n",
       "          Avg_class_frequency_total  Avg_class_frequency_current_month  \n",
       "clusters                                                                \n",
       "0                          1.991983                           1.983475  \n",
       "1                          2.924785                           2.929752  \n",
       "2                          1.682177                           1.565955  \n",
       "3                          1.659607                           1.469327  \n",
       "4                          1.306977                           1.071938  "
      ]
     },
     "execution_count": 21,
     "metadata": {},
     "output_type": "execute_result"
    }
   ],
   "source": [
    "# look at the mean feature values for clusters \n",
    "data.drop('Churn', axis = 1).groupby('clusters').mean().sort_values(by='clusters', ascending=True)"
   ]
  },
  {
   "cell_type": "code",
   "execution_count": 22,
   "metadata": {},
   "outputs": [
    {
     "data": {
      "image/png": "[encoded data removed]",
      "text/plain": [
       "<Figure size 432x288 with 1 Axes>"
      ]
     },
     "metadata": {
      "needs_background": "light"
     },
     "output_type": "display_data"
    },
    {
     "data": {
      "image/png": "[encoded data removed]",
      "text/plain": [
       "<Figure size 432x288 with 1 Axes>"
      ]
     },
     "metadata": {
      "needs_background": "light"
     },
     "output_type": "display_data"
    },
    {
     "data": {
      "image/png": "[encoded data removed]",
      "text/plain": [
       "<Figure size 432x288 with 1 Axes>"
      ]
     },
     "metadata": {
      "needs_background": "light"
     },
     "output_type": "display_data"
    },
    {
     "data": {
      "image/png": "[encoded data removed]",
      "text/plain": [
       "<Figure size 432x288 with 1 Axes>"
      ]
     },
     "metadata": {
      "needs_background": "light"
     },
     "output_type": "display_data"
    },
    {
     "data": {
      "image/png": "[encoded data removed]",
      "text/plain": [
       "<Figure size 432x288 with 1 Axes>"
      ]
     },
     "metadata": {
      "needs_background": "light"
     },
     "output_type": "display_data"
    },
    {
     "data": {
      "image/png": "[encoded data removed]",
      "text/plain": [
       "<Figure size 432x288 with 1 Axes>"
      ]
     },
     "metadata": {
      "needs_background": "light"
     },
     "output_type": "display_data"
    },
    {
     "data": {
      "image/png": "[encoded data removed]",
      "text/plain": [
       "<Figure size 432x288 with 1 Axes>"
      ]
     },
     "metadata": {
      "needs_background": "light"
     },
     "output_type": "display_data"
    },
    {
     "data": {
      "image/png": "[encoded data removed]",
      "text/plain": [
       "<Figure size 432x288 with 1 Axes>"
      ]
     },
     "metadata": {
      "needs_background": "light"
     },
     "output_type": "display_data"
    },
    {
     "data": {
      "image/png": "[encoded data removed]",
      "text/plain": [
       "<Figure size 432x288 with 1 Axes>"
      ]
     },
     "metadata": {
      "needs_background": "light"
     },
     "output_type": "display_data"
    },
    {
     "data": {
      "image/png": "[encoded data removed]",
      "text/plain": [
       "<Figure size 432x288 with 1 Axes>"
      ]
     },
     "metadata": {
      "needs_background": "light"
     },
     "output_type": "display_data"
    },
    {
     "data": {
      "image/png": "[encoded data removed]",
      "text/plain": [
       "<Figure size 432x288 with 1 Axes>"
      ]
     },
     "metadata": {
      "needs_background": "light"
     },
     "output_type": "display_data"
    },
    {
     "data": {
      "image/png": "[encoded data removed]",
      "text/plain": [
       "<Figure size 432x288 with 1 Axes>"
      ]
     },
     "metadata": {
      "needs_background": "light"
     },
     "output_type": "display_data"
    },
    {
     "data": {
      "image/png": "[encoded data removed]",
      "text/plain": [
       "<Figure size 432x288 with 1 Axes>"
      ]
     },
     "metadata": {
      "needs_background": "light"
     },
     "output_type": "display_data"
    }
   ],
   "source": [
    "# plot distributions of features for the clusters\n",
    "plt.figure()\n",
    "sns.distplot(data[data['clusters'] == 0]['gender'])\n",
    "sns.distplot(data[data['clusters'] == 1]['gender'])\n",
    "sns.distplot(data[data['clusters'] == 2]['gender'])\n",
    "sns.distplot(data[data['clusters'] == 3]['gender'])\n",
    "sns.distplot(data[data['clusters'] == 4]['gender'])\n",
    "plt.show()\n",
    "\n",
    "plt.figure()\n",
    "sns.distplot(data[data['clusters'] == 0]['Near_Location'])\n",
    "sns.distplot(data[data['clusters'] == 1]['Near_Location'])\n",
    "sns.distplot(data[data['clusters'] == 2]['Near_Location'])\n",
    "sns.distplot(data[data['clusters'] == 3]['Near_Location'])\n",
    "sns.distplot(data[data['clusters'] == 4]['Near_Location'])\n",
    "plt.show()\n",
    "\n",
    "plt.figure()\n",
    "sns.distplot(data[data['clusters'] == 0]['Partner'])\n",
    "sns.distplot(data[data['clusters'] == 1]['Partner'])\n",
    "sns.distplot(data[data['clusters'] == 2]['Partner'])\n",
    "sns.distplot(data[data['clusters'] == 3]['Partner'])\n",
    "sns.distplot(data[data['clusters'] == 4]['Partner'])\n",
    "plt.show()\n",
    "\n",
    "plt.figure()\n",
    "sns.distplot(data[data['clusters'] == 0]['Promo_friends'])\n",
    "sns.distplot(data[data['clusters'] == 1]['Promo_friends'])\n",
    "sns.distplot(data[data['clusters'] == 2]['Promo_friends'])\n",
    "sns.distplot(data[data['clusters'] == 3]['Promo_friends'])\n",
    "sns.distplot(data[data['clusters'] == 4]['Promo_friends'])\n",
    "plt.show()\n",
    "\n",
    "plt.figure()\n",
    "sns.distplot(data[data['clusters'] == 0]['Phone'])\n",
    "sns.distplot(data[data['clusters'] == 1]['Phone'])\n",
    "sns.distplot(data[data['clusters'] == 2]['Phone'])\n",
    "sns.distplot(data[data['clusters'] == 3]['Phone'])\n",
    "sns.distplot(data[data['clusters'] == 4]['Phone'])\n",
    "plt.show()\n",
    "\n",
    "plt.figure()\n",
    "sns.distplot(data[data['clusters'] == 0]['Contract_period'])\n",
    "sns.distplot(data[data['clusters'] == 1]['Contract_period'])\n",
    "sns.distplot(data[data['clusters'] == 2]['Contract_period'])\n",
    "sns.distplot(data[data['clusters'] == 3]['Contract_period'])\n",
    "sns.distplot(data[data['clusters'] == 4]['Contract_period'])\n",
    "plt.show()\n",
    "\n",
    "plt.figure()\n",
    "sns.distplot(data[data['clusters'] == 0]['Group_visits'])\n",
    "sns.distplot(data[data['clusters'] == 1]['Group_visits'])\n",
    "sns.distplot(data[data['clusters'] == 2]['Group_visits'])\n",
    "sns.distplot(data[data['clusters'] == 3]['Group_visits'])\n",
    "sns.distplot(data[data['clusters'] == 4]['Group_visits'])\n",
    "plt.show()\n",
    "\n",
    "plt.figure()\n",
    "sns.distplot(data[data['clusters'] == 0]['Age'])\n",
    "sns.distplot(data[data['clusters'] == 1]['Age'])\n",
    "sns.distplot(data[data['clusters'] == 2]['Age'])\n",
    "sns.distplot(data[data['clusters'] == 3]['Age'])\n",
    "sns.distplot(data[data['clusters'] == 4]['Age'])\n",
    "plt.show()\n",
    "\n",
    "plt.figure()\n",
    "sns.distplot(data[data['clusters'] == 0]['Avg_additional_charges_total'])\n",
    "sns.distplot(data[data['clusters'] == 1]['Avg_additional_charges_total'])\n",
    "sns.distplot(data[data['clusters'] == 2]['Avg_additional_charges_total'])\n",
    "sns.distplot(data[data['clusters'] == 3]['Avg_additional_charges_total'])\n",
    "sns.distplot(data[data['clusters'] == 4]['Avg_additional_charges_total'])\n",
    "plt.show()\n",
    "\n",
    "plt.figure()\n",
    "sns.distplot(data[data['clusters'] == 0]['Month_to_end_contract'])\n",
    "sns.distplot(data[data['clusters'] == 1]['Month_to_end_contract'])\n",
    "sns.distplot(data[data['clusters'] == 2]['Month_to_end_contract'])\n",
    "sns.distplot(data[data['clusters'] == 3]['Month_to_end_contract'])\n",
    "sns.distplot(data[data['clusters'] == 4]['Month_to_end_contract'])\n",
    "plt.show()\n",
    "\n",
    "plt.figure()\n",
    "sns.distplot(data[data['clusters'] == 0]['Lifetime'])\n",
    "sns.distplot(data[data['clusters'] == 1]['Lifetime'])\n",
    "sns.distplot(data[data['clusters'] == 2]['Lifetime'])\n",
    "sns.distplot(data[data['clusters'] == 3]['Lifetime'])\n",
    "sns.distplot(data[data['clusters'] == 4]['Lifetime'])\n",
    "plt.show()\n",
    "\n",
    "plt.figure()\n",
    "sns.distplot(data[data['clusters'] == 0]['Avg_class_frequency_total'])\n",
    "sns.distplot(data[data['clusters'] == 1]['Avg_class_frequency_total'])\n",
    "sns.distplot(data[data['clusters'] == 2]['Avg_class_frequency_total'])\n",
    "sns.distplot(data[data['clusters'] == 3]['Avg_class_frequency_total'])\n",
    "sns.distplot(data[data['clusters'] == 4]['Avg_class_frequency_total'])\n",
    "plt.show()\n",
    "\n",
    "plt.figure()\n",
    "sns.distplot(data[data['clusters'] == 0]['Avg_class_frequency_current_month'])\n",
    "sns.distplot(data[data['clusters'] == 1]['Avg_class_frequency_current_month'])\n",
    "sns.distplot(data[data['clusters'] == 2]['Avg_class_frequency_current_month'])\n",
    "sns.distplot(data[data['clusters'] == 3]['Avg_class_frequency_current_month'])\n",
    "sns.distplot(data[data['clusters'] == 4]['Avg_class_frequency_current_month'])\n",
    "plt.show()\n"
   ]
  },
  {
   "cell_type": "markdown",
   "metadata": {},
   "source": [
    "We plot distributions of features for the clusters. Distributions of features for different clusters mostly repeat their shapes but differ in quantity."
   ]
  },
  {
   "cell_type": "code",
   "execution_count": 23,
   "metadata": {},
   "outputs": [
    {
     "data": {
      "text/html": [
       "<div>\n",
       "<style scoped>\n",
       "    .dataframe tbody tr th:only-of-type {\n",
       "        vertical-align: middle;\n",
       "    }\n",
       "\n",
       "    .dataframe tbody tr th {\n",
       "        vertical-align: top;\n",
       "    }\n",
       "\n",
       "    .dataframe thead th {\n",
       "        text-align: right;\n",
       "    }\n",
       "</style>\n",
       "<table border=\"1\" class=\"dataframe\">\n",
       "  <thead>\n",
       "    <tr style=\"text-align: right;\">\n",
       "      <th></th>\n",
       "      <th>gender</th>\n",
       "      <th>Near_Location</th>\n",
       "      <th>Partner</th>\n",
       "      <th>Promo_friends</th>\n",
       "      <th>Phone</th>\n",
       "      <th>Contract_period</th>\n",
       "      <th>Group_visits</th>\n",
       "      <th>Age</th>\n",
       "      <th>Avg_additional_charges_total</th>\n",
       "      <th>Month_to_end_contract</th>\n",
       "      <th>Lifetime</th>\n",
       "      <th>Avg_class_frequency_total</th>\n",
       "      <th>Avg_class_frequency_current_month</th>\n",
       "      <th>Churn</th>\n",
       "    </tr>\n",
       "    <tr>\n",
       "      <th>clusters</th>\n",
       "      <th></th>\n",
       "      <th></th>\n",
       "      <th></th>\n",
       "      <th></th>\n",
       "      <th></th>\n",
       "      <th></th>\n",
       "      <th></th>\n",
       "      <th></th>\n",
       "      <th></th>\n",
       "      <th></th>\n",
       "      <th></th>\n",
       "      <th></th>\n",
       "      <th></th>\n",
       "      <th></th>\n",
       "    </tr>\n",
       "  </thead>\n",
       "  <tbody>\n",
       "    <tr>\n",
       "      <td>4</td>\n",
       "      <td>0.484099</td>\n",
       "      <td>1.000000</td>\n",
       "      <td>0.243816</td>\n",
       "      <td>0.010601</td>\n",
       "      <td>0.902827</td>\n",
       "      <td>1.976148</td>\n",
       "      <td>0.322438</td>\n",
       "      <td>28.227032</td>\n",
       "      <td>131.524179</td>\n",
       "      <td>1.893993</td>\n",
       "      <td>2.454064</td>\n",
       "      <td>1.306977</td>\n",
       "      <td>1.071938</td>\n",
       "      <td>0.516784</td>\n",
       "    </tr>\n",
       "    <tr>\n",
       "      <td>3</td>\n",
       "      <td>0.494505</td>\n",
       "      <td>0.000000</td>\n",
       "      <td>0.465201</td>\n",
       "      <td>0.076923</td>\n",
       "      <td>0.915751</td>\n",
       "      <td>2.225275</td>\n",
       "      <td>0.214286</td>\n",
       "      <td>28.478022</td>\n",
       "      <td>134.126172</td>\n",
       "      <td>2.089744</td>\n",
       "      <td>2.805861</td>\n",
       "      <td>1.659607</td>\n",
       "      <td>1.469327</td>\n",
       "      <td>0.448718</td>\n",
       "    </tr>\n",
       "    <tr>\n",
       "      <td>2</td>\n",
       "      <td>0.485804</td>\n",
       "      <td>1.000000</td>\n",
       "      <td>0.805994</td>\n",
       "      <td>1.000000</td>\n",
       "      <td>0.908517</td>\n",
       "      <td>3.102524</td>\n",
       "      <td>0.451104</td>\n",
       "      <td>29.078864</td>\n",
       "      <td>140.097349</td>\n",
       "      <td>2.881703</td>\n",
       "      <td>3.610410</td>\n",
       "      <td>1.682177</td>\n",
       "      <td>1.565955</td>\n",
       "      <td>0.263407</td>\n",
       "    </tr>\n",
       "    <tr>\n",
       "      <td>1</td>\n",
       "      <td>0.593085</td>\n",
       "      <td>0.972074</td>\n",
       "      <td>0.281915</td>\n",
       "      <td>0.117021</td>\n",
       "      <td>0.894947</td>\n",
       "      <td>2.909574</td>\n",
       "      <td>0.484043</td>\n",
       "      <td>30.319149</td>\n",
       "      <td>162.953822</td>\n",
       "      <td>2.666223</td>\n",
       "      <td>5.180851</td>\n",
       "      <td>2.924785</td>\n",
       "      <td>2.929752</td>\n",
       "      <td>0.057181</td>\n",
       "    </tr>\n",
       "    <tr>\n",
       "      <td>0</td>\n",
       "      <td>0.501068</td>\n",
       "      <td>0.944444</td>\n",
       "      <td>0.741453</td>\n",
       "      <td>0.489316</td>\n",
       "      <td>0.900641</td>\n",
       "      <td>11.878205</td>\n",
       "      <td>0.552350</td>\n",
       "      <td>29.913462</td>\n",
       "      <td>164.843651</td>\n",
       "      <td>10.869658</td>\n",
       "      <td>4.705128</td>\n",
       "      <td>1.991983</td>\n",
       "      <td>1.983475</td>\n",
       "      <td>0.022436</td>\n",
       "    </tr>\n",
       "  </tbody>\n",
       "</table>\n",
       "</div>"
      ],
      "text/plain": [
       "            gender  Near_Location   Partner  Promo_friends     Phone  \\\n",
       "clusters                                                               \n",
       "4         0.484099       1.000000  0.243816       0.010601  0.902827   \n",
       "3         0.494505       0.000000  0.465201       0.076923  0.915751   \n",
       "2         0.485804       1.000000  0.805994       1.000000  0.908517   \n",
       "1         0.593085       0.972074  0.281915       0.117021  0.894947   \n",
       "0         0.501068       0.944444  0.741453       0.489316  0.900641   \n",
       "\n",
       "          Contract_period  Group_visits        Age  \\\n",
       "clusters                                             \n",
       "4                1.976148      0.322438  28.227032   \n",
       "3                2.225275      0.214286  28.478022   \n",
       "2                3.102524      0.451104  29.078864   \n",
       "1                2.909574      0.484043  30.319149   \n",
       "0               11.878205      0.552350  29.913462   \n",
       "\n",
       "          Avg_additional_charges_total  Month_to_end_contract  Lifetime  \\\n",
       "clusters                                                                  \n",
       "4                           131.524179               1.893993  2.454064   \n",
       "3                           134.126172               2.089744  2.805861   \n",
       "2                           140.097349               2.881703  3.610410   \n",
       "1                           162.953822               2.666223  5.180851   \n",
       "0                           164.843651              10.869658  4.705128   \n",
       "\n",
       "          Avg_class_frequency_total  Avg_class_frequency_current_month  \\\n",
       "clusters                                                                 \n",
       "4                          1.306977                           1.071938   \n",
       "3                          1.659607                           1.469327   \n",
       "2                          1.682177                           1.565955   \n",
       "1                          2.924785                           2.929752   \n",
       "0                          1.991983                           1.983475   \n",
       "\n",
       "             Churn  \n",
       "clusters            \n",
       "4         0.516784  \n",
       "3         0.448718  \n",
       "2         0.263407  \n",
       "1         0.057181  \n",
       "0         0.022436  "
      ]
     },
     "execution_count": 23,
     "metadata": {},
     "output_type": "execute_result"
    }
   ],
   "source": [
    "# calculate the churn rate for each cluster\n",
    "data.groupby('clusters').mean().sort_values(by='Churn', ascending=False)"
   ]
  },
  {
   "cell_type": "markdown",
   "metadata": {},
   "source": [
    "## Conclusion\n",
    "\n",
    "We set aside the column with data on churn and identify object (user) clusters.\n",
    "\n",
    "We standardize the data.\n",
    "\n",
    "We use the linkage() function to build a matrix of distances based on the standardized feature matrix and plot a dendrogram.  We use the resulting graph to estimate the number of clusters we can single out. From the dendrogram we can see that 4 would be the optimal number of clusters.\n",
    "\n",
    "We train the clustering model with the K-means algorithm and predict customer clusters (we let the number of clusters be n=5). \n",
    "\n",
    "Look at the mean feature values for clusters. We notice that for some features ('gender', 'Phone') means almost do not differ, so these features are not so important and influencive. In the mean time others ('Age', 'Avg additional charges total', 'Contract Period', 'Month to end contract', 'Lifetime') differ quite a lot.\n",
    "\n",
    "We plot distributions of features for the clusters. We notice that distributions of features for different clusters mostly repeat their shapes but differ in quantity.\n",
    "\n",
    "We calculate the churn rate for each cluster (using the groupby() method). We find they are quite differ in terms of churn rate. Highest rate is 0.52 - cluster number 1, then 0.44 - cluster 4 and 0.27 - cluster 3. As for clusters 0 and 2, the churn rates are insignificant - 0.07 and 0.03, respectively. So we can expect clusters 1 and 4 are highly likely leaving. Cluster 3 is a little better, probably among undecided. As for clusters 0 and 2 (which gives us 46% of customers), we can consider them loyal. "
   ]
  },
  {
   "cell_type": "markdown",
   "metadata": {},
   "source": [
    "## Step 5. Overall conclusions\n",
    "\n",
    "On the first step we download the data. We check data for duplicates, no duplicates found.\n",
    "\n",
    "The data look good. There are no missing values, all min, max, means and standard deviation look meaningful, that means there are no outliers in the dataset provided. The data types are proper, although could be reduced from int64 , this is not necessary because total data volume is quite small.\n",
    "\n",
    "We look at the mean feature values in two groups: for those who left (churn) and for those who stayed (using the groupby() method).\n",
    "\n",
    "We plot bar histograms and feature distributions for those who stayed (first bunch of bar histograms) and for those who left (second bunch of bar histograms). Feature 'Age' has normal distribution for both groups. Features 'Avg additional charges total', 'Avg class frequency current month', 'Avg class frequency total' shows skewed normal distribution. 'Avg class frequency current month' for those who left demonstrates alarming peak on '0'. That must be very important feature so. 'Contract Period' could be telling a lot on user intentions, as we see predominant one-two-month contracts among those who left. On the contrary, we can see fair distribution of short and six-twelf-month contracts in those who stayed. Feature 'Group Visits' supports those who stayed, as well as feature 'Partner'. Feature 'Lifetime' naturally goes longer for those who stayed. Feature 'Month to end contract' seem to just follow the 'Contract Period' feature. Features 'Near Location', 'Phone', 'Promo Friends' and 'Gender' seem to be insignificant and not influencing factors.\n",
    "\n",
    "We build a correlation matrix and display it in the form of heatmap. From this matrix we can see that there is a strong correlation between features 'Avg class frequency total'and 'Avg class frequency current month', namely, 0.95; and 'Month to end contract' and 'Contract period', 0.97. Other features do not demonstrate any considerable correlation.\n",
    "\n",
    "We build a binary classification model for customers where the target feature is the user's leaving next month.\n",
    "\n",
    "We divide the data into train and validation sets using the train_test_split() function. We indicate the random_state = 0 parameter when dividing data and defining the algorithm. We train the model on the train set with two methods:\n",
    "\n",
    "- logistic regression\n",
    "- random forest\n",
    "\n",
    "We evaluate accuracy, precision, and recall for both models using the validation data. We use them to compare the models. Logistic Regression Model (Accuracy: 0.93, Precision: 0.86, Recall: 0.83) gave better results than Random Forest Model (Accuracy: 0.91, Precision: 0.83, Recall: 0.78).\n",
    "\n",
    "\n",
    "We set aside the column with data on churn and identify object (user) clusters.\n",
    "\n",
    "We standardize the data.\n",
    "\n",
    "We use the linkage() function to build a matrix of distances based on the standardized feature matrix and plot a dendrogram.  We use the resulting graph to estimate the number of clusters we can single out. From the dendrogram we can see that 4 would be the optimal number of clusters.\n",
    "\n",
    "We train the clustering model with the K-means algorithm and predict customer clusters (we let the number of clusters be n=5). \n",
    "\n",
    "Look at the mean feature values for clusters. We notice that for some features ('gender', 'Phone') means almost do not differ, so these features are not so important and influencive. In the mean time others ('Age', 'Avg additional charges total', 'Contract Period', 'Month to end contract', 'Lifetime') differ quite a lot.\n",
    "\n",
    "We plot distributions of features for the clusters. We notice that distributions of features for different clusters mostly repeat their shapes but differ in quantity.\n",
    "\n",
    "We calculate the churn rate for each cluster (using the groupby() method). We find they are quite differ in terms of churn rate. Highest rate is 0.52 - cluster number 1, then 0.44 - cluster 4 and 0.27 - cluster 3. As for clusters 0 and 2, the churn rates are insignificant - 0.07 and 0.03, respectively. So we can expect clusters 1 and 4 are highly likely leaving. Cluster 3 is a little better, probably among undecided. As for clusters 0 and 2 (which gives us 46% of customers), we can consider them loyal. "
   ]
  },
  {
   "cell_type": "markdown",
   "metadata": {},
   "source": [
    "## Recommendations on working with customers\n",
    "\n",
    "Clusters 1 and 4 show weakness in 'Partner', 'Promo Friends', 'Group visits'  features. In the meantime these clusters represent the youngest part (and massive 44%) of total Model Fitness customers. Probably they begin to fill bored, longly, lost and so wipe off in 2-3 months. We would recommend getting close to these customers first. \n",
    "\n",
    "- They probably could appreciate regular fitness events which involve lots of communication and competitive and team spirit. \n",
    "\n",
    "- Also special promotions like 'Promo Friends' should be more attractive, to suit these clusters budget. As their additional charges are smallest among all clusters, we can guess, that they, even if they will, cannot afford a personal fitness instructor. In that case we would recommend limited promotions like 'by 2 get 1 free', or 'pay today (for whatever package) and get 50% discount', and send notifications on them at least weekly to keep customers reminded. \n",
    "\n",
    "- Also, probably, proper refreshing of regular group classes program could also help them to stay entertained.\n",
    "\n",
    "- As cluster 4 is weak in feature 'Near Location' while Model Fitness is a chain, it might be helpful to extend membership trough any gym club location (if not done yet), so the customer could choose the nearest one.\n",
    "\n",
    "- As all of them have left their contact phone, it would be useful to conduct a survey to find out what needs to be improved.\n"
   ]
  },
  {
   "cell_type": "code",
   "execution_count": null,
   "metadata": {},
   "outputs": [],
   "source": []
  }
 ],
 "metadata": {
  "ExecuteTimeLog": [
   {
    "duration": 592,
    "start_time": "2021-08-09T14:47:39.105Z"
   },
   {
    "duration": 611,
    "start_time": "2021-08-09T14:55:03.931Z"
   },
   {
    "duration": 4,
    "start_time": "2021-08-09T14:55:04.543Z"
   },
   {
    "duration": 569,
    "start_time": "2021-08-09T15:11:03.071Z"
   },
   {
    "duration": 3,
    "start_time": "2021-08-09T15:11:03.642Z"
   },
   {
    "duration": 14,
    "start_time": "2021-08-09T15:11:03.647Z"
   },
   {
    "duration": 550,
    "start_time": "2021-08-09T15:13:36.684Z"
   },
   {
    "duration": 3,
    "start_time": "2021-08-09T15:13:37.236Z"
   },
   {
    "duration": 32,
    "start_time": "2021-08-09T15:13:37.241Z"
   },
   {
    "duration": 601,
    "start_time": "2021-08-09T16:42:40.642Z"
   },
   {
    "duration": 6,
    "start_time": "2021-08-09T16:42:41.245Z"
   },
   {
    "duration": 26,
    "start_time": "2021-08-09T16:43:39.776Z"
   },
   {
    "duration": 4,
    "start_time": "2021-08-09T16:43:39.803Z"
   },
   {
    "duration": 15,
    "start_time": "2021-08-09T16:43:39.809Z"
   },
   {
    "duration": 52,
    "start_time": "2021-08-09T16:43:39.825Z"
   },
   {
    "duration": 15,
    "start_time": "2021-08-09T17:05:27.783Z"
   },
   {
    "duration": 4,
    "start_time": "2021-08-09T17:05:27.800Z"
   },
   {
    "duration": 42,
    "start_time": "2021-08-09T17:05:27.806Z"
   },
   {
    "duration": 33,
    "start_time": "2021-08-09T17:05:27.850Z"
   },
   {
    "duration": 27,
    "start_time": "2021-08-09T17:05:27.885Z"
   },
   {
    "duration": 607,
    "start_time": "2021-08-09T17:07:10.329Z"
   },
   {
    "duration": 4,
    "start_time": "2021-08-09T17:07:10.938Z"
   },
   {
    "duration": 14,
    "start_time": "2021-08-09T17:07:10.944Z"
   },
   {
    "duration": 33,
    "start_time": "2021-08-09T17:07:10.959Z"
   },
   {
    "duration": 66,
    "start_time": "2021-08-09T17:07:10.993Z"
   },
   {
    "duration": 70,
    "start_time": "2021-08-09T17:48:11.778Z"
   },
   {
    "duration": 76,
    "start_time": "2021-08-09T17:52:30.182Z"
   },
   {
    "duration": 1576,
    "start_time": "2021-08-10T15:06:37.388Z"
   },
   {
    "duration": 149,
    "start_time": "2021-08-10T15:06:38.967Z"
   },
   {
    "duration": 6,
    "start_time": "2021-08-10T15:06:39.119Z"
   },
   {
    "duration": 33,
    "start_time": "2021-08-10T15:06:39.128Z"
   },
   {
    "duration": 80,
    "start_time": "2021-08-10T15:06:39.164Z"
   },
   {
    "duration": 90,
    "start_time": "2021-08-10T15:06:39.246Z"
   },
   {
    "duration": 142,
    "start_time": "2021-08-10T15:06:39.339Z"
   },
   {
    "duration": 19794,
    "start_time": "2021-08-10T15:06:39.485Z"
   },
   {
    "duration": 31,
    "start_time": "2021-08-10T15:06:59.282Z"
   },
   {
    "duration": 185,
    "start_time": "2021-08-10T15:06:59.316Z"
   },
   {
    "duration": 1662,
    "start_time": "2021-08-10T15:07:26.790Z"
   },
   {
    "duration": 36,
    "start_time": "2021-08-10T15:07:28.455Z"
   },
   {
    "duration": 7,
    "start_time": "2021-08-10T15:07:28.500Z"
   },
   {
    "duration": 32,
    "start_time": "2021-08-10T15:07:28.510Z"
   },
   {
    "duration": 75,
    "start_time": "2021-08-10T15:07:28.544Z"
   },
   {
    "duration": 81,
    "start_time": "2021-08-10T15:07:28.622Z"
   },
   {
    "duration": 145,
    "start_time": "2021-08-10T15:07:28.706Z"
   },
   {
    "duration": 20474,
    "start_time": "2021-08-10T15:07:28.854Z"
   },
   {
    "duration": 23,
    "start_time": "2021-08-10T15:07:49.331Z"
   },
   {
    "duration": 245,
    "start_time": "2021-08-10T15:07:49.357Z"
   },
   {
    "duration": 7257,
    "start_time": "2021-08-10T15:36:46.950Z"
   },
   {
    "duration": 228,
    "start_time": "2021-08-10T15:38:05.537Z"
   },
   {
    "duration": 1561,
    "start_time": "2021-08-10T15:39:27.585Z"
   },
   {
    "duration": 36,
    "start_time": "2021-08-10T15:39:29.148Z"
   },
   {
    "duration": 6,
    "start_time": "2021-08-10T15:39:29.186Z"
   },
   {
    "duration": 21,
    "start_time": "2021-08-10T15:39:29.201Z"
   },
   {
    "duration": 85,
    "start_time": "2021-08-10T15:39:29.225Z"
   },
   {
    "duration": 62,
    "start_time": "2021-08-10T15:39:29.314Z"
   },
   {
    "duration": 151,
    "start_time": "2021-08-10T15:39:29.379Z"
   },
   {
    "duration": 20515,
    "start_time": "2021-08-10T15:39:29.534Z"
   },
   {
    "duration": 241,
    "start_time": "2021-08-10T15:39:50.051Z"
   },
   {
    "duration": 7436,
    "start_time": "2021-08-10T15:39:50.295Z"
   },
   {
    "duration": 23,
    "start_time": "2021-08-10T15:39:57.734Z"
   },
   {
    "duration": 149,
    "start_time": "2021-08-10T15:39:57.760Z"
   },
   {
    "duration": 233,
    "start_time": "2021-08-10T15:41:36.543Z"
   },
   {
    "duration": 5043,
    "start_time": "2021-08-10T15:47:37.591Z"
   },
   {
    "duration": 4894,
    "start_time": "2021-08-10T15:47:54.730Z"
   },
   {
    "duration": 1433,
    "start_time": "2021-08-10T15:49:55.095Z"
   },
   {
    "duration": 1587,
    "start_time": "2021-08-10T15:50:37.483Z"
   },
   {
    "duration": 38,
    "start_time": "2021-08-10T15:50:39.072Z"
   },
   {
    "duration": 5,
    "start_time": "2021-08-10T15:50:39.114Z"
   },
   {
    "duration": 23,
    "start_time": "2021-08-10T15:50:39.122Z"
   },
   {
    "duration": 85,
    "start_time": "2021-08-10T15:50:39.148Z"
   },
   {
    "duration": 88,
    "start_time": "2021-08-10T15:50:39.235Z"
   },
   {
    "duration": 136,
    "start_time": "2021-08-10T15:50:39.325Z"
   },
   {
    "duration": 4729,
    "start_time": "2021-08-10T15:50:39.464Z"
   },
   {
    "duration": 1660,
    "start_time": "2021-08-10T15:50:44.201Z"
   },
   {
    "duration": 5529,
    "start_time": "2021-08-10T15:50:45.864Z"
   },
   {
    "duration": 22,
    "start_time": "2021-08-10T15:50:51.396Z"
   },
   {
    "duration": 182,
    "start_time": "2021-08-10T15:50:51.420Z"
   },
   {
    "duration": 1529,
    "start_time": "2021-08-10T15:51:25.043Z"
   },
   {
    "duration": 36,
    "start_time": "2021-08-10T15:51:26.575Z"
   },
   {
    "duration": 6,
    "start_time": "2021-08-10T15:51:26.613Z"
   },
   {
    "duration": 21,
    "start_time": "2021-08-10T15:51:26.622Z"
   },
   {
    "duration": 84,
    "start_time": "2021-08-10T15:51:26.645Z"
   },
   {
    "duration": 76,
    "start_time": "2021-08-10T15:51:26.732Z"
   },
   {
    "duration": 138,
    "start_time": "2021-08-10T15:51:26.811Z"
   },
   {
    "duration": 4722,
    "start_time": "2021-08-10T15:51:26.952Z"
   },
   {
    "duration": 1663,
    "start_time": "2021-08-10T15:51:31.677Z"
   },
   {
    "duration": 5589,
    "start_time": "2021-08-10T15:51:33.342Z"
   },
   {
    "duration": 22,
    "start_time": "2021-08-10T15:51:38.934Z"
   },
   {
    "duration": 243,
    "start_time": "2021-08-10T15:51:38.958Z"
   },
   {
    "duration": 1633,
    "start_time": "2021-08-10T15:52:14.267Z"
   },
   {
    "duration": 1599,
    "start_time": "2021-08-10T15:52:24.049Z"
   },
   {
    "duration": 37,
    "start_time": "2021-08-10T15:52:25.650Z"
   },
   {
    "duration": 10,
    "start_time": "2021-08-10T15:52:25.690Z"
   },
   {
    "duration": 20,
    "start_time": "2021-08-10T15:52:25.703Z"
   },
   {
    "duration": 76,
    "start_time": "2021-08-10T15:52:25.725Z"
   },
   {
    "duration": 64,
    "start_time": "2021-08-10T15:52:25.805Z"
   },
   {
    "duration": 155,
    "start_time": "2021-08-10T15:52:25.872Z"
   },
   {
    "duration": 4717,
    "start_time": "2021-08-10T15:52:26.030Z"
   },
   {
    "duration": 1668,
    "start_time": "2021-08-10T15:52:30.751Z"
   },
   {
    "duration": 5405,
    "start_time": "2021-08-10T15:52:32.423Z"
   },
   {
    "duration": 23,
    "start_time": "2021-08-10T15:52:37.831Z"
   },
   {
    "duration": 153,
    "start_time": "2021-08-10T15:52:37.857Z"
   },
   {
    "duration": 1528,
    "start_time": "2021-08-10T15:52:47.102Z"
   },
   {
    "duration": 1608,
    "start_time": "2021-08-10T15:52:55.476Z"
   },
   {
    "duration": 39,
    "start_time": "2021-08-10T15:52:57.086Z"
   },
   {
    "duration": 5,
    "start_time": "2021-08-10T15:52:57.128Z"
   },
   {
    "duration": 33,
    "start_time": "2021-08-10T15:52:57.136Z"
   },
   {
    "duration": 80,
    "start_time": "2021-08-10T15:52:57.173Z"
   },
   {
    "duration": 91,
    "start_time": "2021-08-10T15:52:57.255Z"
   },
   {
    "duration": 143,
    "start_time": "2021-08-10T15:52:57.348Z"
   },
   {
    "duration": 4686,
    "start_time": "2021-08-10T15:52:57.502Z"
   },
   {
    "duration": 1526,
    "start_time": "2021-08-10T15:53:02.190Z"
   },
   {
    "duration": 5210,
    "start_time": "2021-08-10T15:53:03.719Z"
   },
   {
    "duration": 25,
    "start_time": "2021-08-10T15:53:08.932Z"
   },
   {
    "duration": 149,
    "start_time": "2021-08-10T15:53:08.959Z"
   },
   {
    "duration": 1566,
    "start_time": "2021-08-10T15:53:37.183Z"
   },
   {
    "duration": 38,
    "start_time": "2021-08-10T15:53:38.752Z"
   },
   {
    "duration": 10,
    "start_time": "2021-08-10T15:53:38.793Z"
   },
   {
    "duration": 22,
    "start_time": "2021-08-10T15:53:38.806Z"
   },
   {
    "duration": 74,
    "start_time": "2021-08-10T15:53:38.830Z"
   },
   {
    "duration": 64,
    "start_time": "2021-08-10T15:53:38.907Z"
   },
   {
    "duration": 147,
    "start_time": "2021-08-10T15:53:38.974Z"
   },
   {
    "duration": 4722,
    "start_time": "2021-08-10T15:53:39.124Z"
   },
   {
    "duration": 1657,
    "start_time": "2021-08-10T15:53:43.850Z"
   },
   {
    "duration": 5446,
    "start_time": "2021-08-10T15:53:45.510Z"
   },
   {
    "duration": 23,
    "start_time": "2021-08-10T15:53:50.958Z"
   },
   {
    "duration": 203,
    "start_time": "2021-08-10T15:53:51.000Z"
   },
   {
    "duration": 1547,
    "start_time": "2021-08-10T15:56:04.483Z"
   },
   {
    "duration": 36,
    "start_time": "2021-08-10T15:56:06.033Z"
   },
   {
    "duration": 5,
    "start_time": "2021-08-10T15:56:06.072Z"
   },
   {
    "duration": 37,
    "start_time": "2021-08-10T15:56:06.079Z"
   },
   {
    "duration": 52,
    "start_time": "2021-08-10T15:56:06.119Z"
   },
   {
    "duration": 90,
    "start_time": "2021-08-10T15:56:06.173Z"
   },
   {
    "duration": 154,
    "start_time": "2021-08-10T15:56:06.266Z"
   },
   {
    "duration": 4789,
    "start_time": "2021-08-10T15:56:06.425Z"
   },
   {
    "duration": 1825,
    "start_time": "2021-08-10T15:56:11.217Z"
   },
   {
    "duration": 5595,
    "start_time": "2021-08-10T15:56:13.045Z"
   },
   {
    "duration": 23,
    "start_time": "2021-08-10T15:56:18.642Z"
   },
   {
    "duration": 149,
    "start_time": "2021-08-10T15:56:18.667Z"
   },
   {
    "duration": 1577,
    "start_time": "2021-08-10T15:57:27.567Z"
   },
   {
    "duration": 36,
    "start_time": "2021-08-10T15:57:29.147Z"
   },
   {
    "duration": 5,
    "start_time": "2021-08-10T15:57:29.187Z"
   },
   {
    "duration": 22,
    "start_time": "2021-08-10T15:57:29.201Z"
   },
   {
    "duration": 75,
    "start_time": "2021-08-10T15:57:29.226Z"
   },
   {
    "duration": 62,
    "start_time": "2021-08-10T15:57:29.304Z"
   },
   {
    "duration": 158,
    "start_time": "2021-08-10T15:57:29.369Z"
   },
   {
    "duration": 5309,
    "start_time": "2021-08-10T15:57:29.531Z"
   },
   {
    "duration": 1879,
    "start_time": "2021-08-10T15:57:34.842Z"
   },
   {
    "duration": 5708,
    "start_time": "2021-08-10T15:57:36.724Z"
   },
   {
    "duration": 22,
    "start_time": "2021-08-10T15:57:42.435Z"
   },
   {
    "duration": 242,
    "start_time": "2021-08-10T15:57:42.459Z"
   },
   {
    "duration": 1621,
    "start_time": "2021-08-10T15:57:59.311Z"
   },
   {
    "duration": 1580,
    "start_time": "2021-08-10T15:58:40.290Z"
   },
   {
    "duration": 40,
    "start_time": "2021-08-10T15:58:41.873Z"
   },
   {
    "duration": 6,
    "start_time": "2021-08-10T15:58:41.917Z"
   },
   {
    "duration": 24,
    "start_time": "2021-08-10T15:58:41.925Z"
   },
   {
    "duration": 79,
    "start_time": "2021-08-10T15:58:41.951Z"
   },
   {
    "duration": 79,
    "start_time": "2021-08-10T15:58:42.032Z"
   },
   {
    "duration": 171,
    "start_time": "2021-08-10T15:58:42.114Z"
   },
   {
    "duration": 4821,
    "start_time": "2021-08-10T15:58:42.290Z"
   },
   {
    "duration": 1653,
    "start_time": "2021-08-10T15:58:47.114Z"
   },
   {
    "duration": 5676,
    "start_time": "2021-08-10T15:58:48.769Z"
   },
   {
    "duration": 24,
    "start_time": "2021-08-10T15:58:54.448Z"
   },
   {
    "duration": 134,
    "start_time": "2021-08-10T15:58:54.474Z"
   },
   {
    "duration": 1768,
    "start_time": "2021-08-10T15:59:43.809Z"
   },
   {
    "duration": 37,
    "start_time": "2021-08-10T15:59:45.580Z"
   },
   {
    "duration": 7,
    "start_time": "2021-08-10T15:59:45.620Z"
   },
   {
    "duration": 23,
    "start_time": "2021-08-10T15:59:45.630Z"
   },
   {
    "duration": 85,
    "start_time": "2021-08-10T15:59:45.655Z"
   },
   {
    "duration": 87,
    "start_time": "2021-08-10T15:59:45.743Z"
   },
   {
    "duration": 147,
    "start_time": "2021-08-10T15:59:45.833Z"
   },
   {
    "duration": 5001,
    "start_time": "2021-08-10T15:59:45.983Z"
   },
   {
    "duration": 1815,
    "start_time": "2021-08-10T15:59:50.987Z"
   },
   {
    "duration": 5684,
    "start_time": "2021-08-10T15:59:52.804Z"
   },
   {
    "duration": 26,
    "start_time": "2021-08-10T15:59:58.491Z"
   },
   {
    "duration": 183,
    "start_time": "2021-08-10T15:59:58.520Z"
   },
   {
    "duration": 1559,
    "start_time": "2021-08-10T16:00:25.115Z"
   },
   {
    "duration": 40,
    "start_time": "2021-08-10T16:00:26.676Z"
   },
   {
    "duration": 5,
    "start_time": "2021-08-10T16:00:26.719Z"
   },
   {
    "duration": 43,
    "start_time": "2021-08-10T16:00:26.727Z"
   },
   {
    "duration": 62,
    "start_time": "2021-08-10T16:00:26.773Z"
   },
   {
    "duration": 75,
    "start_time": "2021-08-10T16:00:26.837Z"
   },
   {
    "duration": 143,
    "start_time": "2021-08-10T16:00:26.914Z"
   },
   {
    "duration": 4814,
    "start_time": "2021-08-10T16:00:27.061Z"
   },
   {
    "duration": 1703,
    "start_time": "2021-08-10T16:00:31.877Z"
   },
   {
    "duration": 5662,
    "start_time": "2021-08-10T16:00:33.582Z"
   },
   {
    "duration": 23,
    "start_time": "2021-08-10T16:00:39.247Z"
   },
   {
    "duration": 233,
    "start_time": "2021-08-10T16:00:39.272Z"
   },
   {
    "duration": 1616,
    "start_time": "2021-08-10T16:01:31.395Z"
   },
   {
    "duration": 37,
    "start_time": "2021-08-10T16:01:33.014Z"
   },
   {
    "duration": 6,
    "start_time": "2021-08-10T16:01:33.054Z"
   },
   {
    "duration": 48,
    "start_time": "2021-08-10T16:01:33.062Z"
   },
   {
    "duration": 54,
    "start_time": "2021-08-10T16:01:33.113Z"
   },
   {
    "duration": 90,
    "start_time": "2021-08-10T16:01:33.169Z"
   },
   {
    "duration": 149,
    "start_time": "2021-08-10T16:01:33.262Z"
   },
   {
    "duration": 4815,
    "start_time": "2021-08-10T16:01:33.414Z"
   },
   {
    "duration": 1697,
    "start_time": "2021-08-10T16:01:38.232Z"
   },
   {
    "duration": 6223,
    "start_time": "2021-08-10T16:01:39.932Z"
   },
   {
    "duration": 24,
    "start_time": "2021-08-10T16:01:46.158Z"
   },
   {
    "duration": 308,
    "start_time": "2021-08-10T16:01:46.202Z"
   },
   {
    "duration": 1609,
    "start_time": "2021-08-10T16:02:25.987Z"
   },
   {
    "duration": 37,
    "start_time": "2021-08-10T16:02:27.602Z"
   },
   {
    "duration": 9,
    "start_time": "2021-08-10T16:02:27.642Z"
   },
   {
    "duration": 42,
    "start_time": "2021-08-10T16:02:27.653Z"
   },
   {
    "duration": 66,
    "start_time": "2021-08-10T16:02:27.697Z"
   },
   {
    "duration": 70,
    "start_time": "2021-08-10T16:02:27.765Z"
   },
   {
    "duration": 150,
    "start_time": "2021-08-10T16:02:27.837Z"
   },
   {
    "duration": 4975,
    "start_time": "2021-08-10T16:02:27.990Z"
   },
   {
    "duration": 1690,
    "start_time": "2021-08-10T16:02:32.967Z"
   },
   {
    "duration": 5562,
    "start_time": "2021-08-10T16:02:34.659Z"
   },
   {
    "duration": 23,
    "start_time": "2021-08-10T16:02:40.224Z"
   },
   {
    "duration": 160,
    "start_time": "2021-08-10T16:02:40.249Z"
   },
   {
    "duration": 1524,
    "start_time": "2021-08-10T16:04:31.146Z"
   },
   {
    "duration": 37,
    "start_time": "2021-08-10T16:04:32.673Z"
   },
   {
    "duration": 7,
    "start_time": "2021-08-10T16:04:32.713Z"
   },
   {
    "duration": 25,
    "start_time": "2021-08-10T16:04:32.723Z"
   },
   {
    "duration": 83,
    "start_time": "2021-08-10T16:04:32.750Z"
   },
   {
    "duration": 78,
    "start_time": "2021-08-10T16:04:32.836Z"
   },
   {
    "duration": 149,
    "start_time": "2021-08-10T16:04:32.917Z"
   },
   {
    "duration": 4890,
    "start_time": "2021-08-10T16:04:33.069Z"
   },
   {
    "duration": 1817,
    "start_time": "2021-08-10T16:04:37.965Z"
   },
   {
    "duration": 5360,
    "start_time": "2021-08-10T16:04:39.786Z"
   },
   {
    "duration": 23,
    "start_time": "2021-08-10T16:04:45.149Z"
   },
   {
    "duration": 134,
    "start_time": "2021-08-10T16:04:45.174Z"
   },
   {
    "duration": 1654,
    "start_time": "2021-08-10T16:08:35.388Z"
   },
   {
    "duration": 38,
    "start_time": "2021-08-10T16:08:37.045Z"
   },
   {
    "duration": 5,
    "start_time": "2021-08-10T16:08:37.086Z"
   },
   {
    "duration": 27,
    "start_time": "2021-08-10T16:08:37.094Z"
   },
   {
    "duration": 100,
    "start_time": "2021-08-10T16:08:37.124Z"
   },
   {
    "duration": 105,
    "start_time": "2021-08-10T16:08:37.227Z"
   },
   {
    "duration": 147,
    "start_time": "2021-08-10T16:08:37.335Z"
   },
   {
    "duration": 5313,
    "start_time": "2021-08-10T16:08:37.486Z"
   },
   {
    "duration": 1547,
    "start_time": "2021-08-10T16:09:31.238Z"
   },
   {
    "duration": 37,
    "start_time": "2021-08-10T16:09:32.788Z"
   },
   {
    "duration": 7,
    "start_time": "2021-08-10T16:09:32.827Z"
   },
   {
    "duration": 32,
    "start_time": "2021-08-10T16:09:32.837Z"
   },
   {
    "duration": 97,
    "start_time": "2021-08-10T16:09:32.873Z"
   },
   {
    "duration": 115,
    "start_time": "2021-08-10T16:09:32.973Z"
   },
   {
    "duration": 201,
    "start_time": "2021-08-10T16:09:33.100Z"
   },
   {
    "duration": 5714,
    "start_time": "2021-08-10T16:09:33.305Z"
   },
   {
    "duration": 1517,
    "start_time": "2021-08-10T16:10:54.452Z"
   },
   {
    "duration": 38,
    "start_time": "2021-08-10T16:10:55.972Z"
   },
   {
    "duration": 5,
    "start_time": "2021-08-10T16:10:56.013Z"
   },
   {
    "duration": 20,
    "start_time": "2021-08-10T16:10:56.021Z"
   },
   {
    "duration": 86,
    "start_time": "2021-08-10T16:10:56.043Z"
   },
   {
    "duration": 76,
    "start_time": "2021-08-10T16:10:56.131Z"
   },
   {
    "duration": 142,
    "start_time": "2021-08-10T16:10:56.210Z"
   },
   {
    "duration": 5839,
    "start_time": "2021-08-10T16:10:56.355Z"
   },
   {
    "duration": 1587,
    "start_time": "2021-08-10T16:12:06.975Z"
   },
   {
    "duration": 38,
    "start_time": "2021-08-10T16:12:08.565Z"
   },
   {
    "duration": 6,
    "start_time": "2021-08-10T16:12:08.608Z"
   },
   {
    "duration": 21,
    "start_time": "2021-08-10T16:12:08.617Z"
   },
   {
    "duration": 87,
    "start_time": "2021-08-10T16:12:08.640Z"
   },
   {
    "duration": 75,
    "start_time": "2021-08-10T16:12:08.730Z"
   },
   {
    "duration": 147,
    "start_time": "2021-08-10T16:12:08.808Z"
   },
   {
    "duration": 6734,
    "start_time": "2021-08-10T16:12:08.958Z"
   },
   {
    "duration": 2116,
    "start_time": "2021-08-10T16:12:15.701Z"
   },
   {
    "duration": 6153,
    "start_time": "2021-08-10T16:12:17.821Z"
   },
   {
    "duration": 34,
    "start_time": "2021-08-10T16:12:23.977Z"
   },
   {
    "duration": 101,
    "start_time": "2021-08-10T16:12:24.014Z"
   },
   {
    "duration": 1948,
    "start_time": "2021-08-10T16:15:02.617Z"
   },
   {
    "duration": 38,
    "start_time": "2021-08-10T16:15:04.567Z"
   },
   {
    "duration": 7,
    "start_time": "2021-08-10T16:15:04.608Z"
   },
   {
    "duration": 32,
    "start_time": "2021-08-10T16:15:04.618Z"
   },
   {
    "duration": 73,
    "start_time": "2021-08-10T16:15:04.653Z"
   },
   {
    "duration": 86,
    "start_time": "2021-08-10T16:15:04.728Z"
   },
   {
    "duration": 23,
    "start_time": "2021-08-10T16:15:04.817Z"
   },
   {
    "duration": 7000,
    "start_time": "2021-08-10T16:15:04.843Z"
   },
   {
    "duration": 1987,
    "start_time": "2021-08-10T16:15:11.847Z"
   },
   {
    "duration": 6418,
    "start_time": "2021-08-10T16:15:13.836Z"
   },
   {
    "duration": 22,
    "start_time": "2021-08-10T16:15:20.257Z"
   },
   {
    "duration": 128,
    "start_time": "2021-08-10T16:15:20.282Z"
   },
   {
    "duration": 1597,
    "start_time": "2021-08-10T16:39:15.590Z"
   },
   {
    "duration": 38,
    "start_time": "2021-08-10T16:39:17.190Z"
   },
   {
    "duration": 5,
    "start_time": "2021-08-10T16:39:17.231Z"
   },
   {
    "duration": 23,
    "start_time": "2021-08-10T16:39:17.239Z"
   },
   {
    "duration": 84,
    "start_time": "2021-08-10T16:39:17.265Z"
   },
   {
    "duration": 80,
    "start_time": "2021-08-10T16:39:17.351Z"
   },
   {
    "duration": 24,
    "start_time": "2021-08-10T16:39:17.434Z"
   },
   {
    "duration": 6584,
    "start_time": "2021-08-10T16:39:17.462Z"
   },
   {
    "duration": 1829,
    "start_time": "2021-08-10T16:39:24.049Z"
   },
   {
    "duration": 3,
    "start_time": "2021-08-10T16:39:25.881Z"
   },
   {
    "duration": 31,
    "start_time": "2021-08-10T16:39:25.886Z"
   },
   {
    "duration": 187,
    "start_time": "2021-08-10T16:39:25.919Z"
   },
   {
    "duration": 472,
    "start_time": "2021-08-10T16:53:18.735Z"
   },
   {
    "duration": 1642,
    "start_time": "2021-08-10T16:53:32.040Z"
   },
   {
    "duration": 39,
    "start_time": "2021-08-10T16:53:33.685Z"
   },
   {
    "duration": 6,
    "start_time": "2021-08-10T16:53:33.727Z"
   },
   {
    "duration": 23,
    "start_time": "2021-08-10T16:53:33.736Z"
   },
   {
    "duration": 86,
    "start_time": "2021-08-10T16:53:33.761Z"
   },
   {
    "duration": 84,
    "start_time": "2021-08-10T16:53:33.850Z"
   },
   {
    "duration": 23,
    "start_time": "2021-08-10T16:53:33.937Z"
   },
   {
    "duration": 6246,
    "start_time": "2021-08-10T16:53:33.963Z"
   },
   {
    "duration": 1894,
    "start_time": "2021-08-10T16:53:40.212Z"
   },
   {
    "duration": 3,
    "start_time": "2021-08-10T16:53:42.109Z"
   },
   {
    "duration": 23,
    "start_time": "2021-08-10T16:53:42.114Z"
   },
   {
    "duration": 169,
    "start_time": "2021-08-10T16:53:42.140Z"
   },
   {
    "duration": 544,
    "start_time": "2021-08-10T16:53:42.313Z"
   },
   {
    "duration": 110173,
    "start_time": "2021-08-10T16:53:42.859Z"
   },
   {
    "duration": 1726,
    "start_time": "2021-08-10T16:58:25.643Z"
   },
   {
    "duration": 40,
    "start_time": "2021-08-10T16:58:27.372Z"
   },
   {
    "duration": 6,
    "start_time": "2021-08-10T16:58:27.416Z"
   },
   {
    "duration": 28,
    "start_time": "2021-08-10T16:58:27.425Z"
   },
   {
    "duration": 74,
    "start_time": "2021-08-10T16:58:27.456Z"
   },
   {
    "duration": 80,
    "start_time": "2021-08-10T16:58:27.532Z"
   },
   {
    "duration": 23,
    "start_time": "2021-08-10T16:58:27.614Z"
   },
   {
    "duration": 7063,
    "start_time": "2021-08-10T16:58:27.641Z"
   },
   {
    "duration": 1987,
    "start_time": "2021-08-10T16:58:34.707Z"
   },
   {
    "duration": 5,
    "start_time": "2021-08-10T16:58:36.696Z"
   },
   {
    "duration": 29,
    "start_time": "2021-08-10T16:58:36.704Z"
   },
   {
    "duration": 266,
    "start_time": "2021-08-10T16:58:36.735Z"
   },
   {
    "duration": 520,
    "start_time": "2021-08-10T16:58:37.004Z"
   },
   {
    "duration": 107316,
    "start_time": "2021-08-10T16:58:37.526Z"
   },
   {
    "duration": 1518,
    "start_time": "2021-08-10T17:09:43.022Z"
   },
   {
    "duration": 36,
    "start_time": "2021-08-10T17:09:44.544Z"
   },
   {
    "duration": 17,
    "start_time": "2021-08-10T17:09:44.583Z"
   },
   {
    "duration": 21,
    "start_time": "2021-08-10T17:09:44.602Z"
   },
   {
    "duration": 50,
    "start_time": "2021-08-10T17:09:44.625Z"
   },
   {
    "duration": 62,
    "start_time": "2021-08-10T17:09:44.701Z"
   },
   {
    "duration": 43,
    "start_time": "2021-08-10T17:09:44.766Z"
   },
   {
    "duration": 6088,
    "start_time": "2021-08-10T17:09:44.812Z"
   },
   {
    "duration": 1868,
    "start_time": "2021-08-10T17:09:50.904Z"
   },
   {
    "duration": 4,
    "start_time": "2021-08-10T17:09:52.775Z"
   },
   {
    "duration": 34,
    "start_time": "2021-08-10T17:09:52.782Z"
   },
   {
    "duration": 191,
    "start_time": "2021-08-10T17:09:52.819Z"
   },
   {
    "duration": 11,
    "start_time": "2021-08-10T17:09:53.102Z"
   },
   {
    "duration": 856,
    "start_time": "2021-08-10T17:09:53.115Z"
   },
   {
    "duration": 1553,
    "start_time": "2021-08-10T17:11:28.595Z"
   },
   {
    "duration": 37,
    "start_time": "2021-08-10T17:11:30.151Z"
   },
   {
    "duration": 11,
    "start_time": "2021-08-10T17:11:30.191Z"
   },
   {
    "duration": 20,
    "start_time": "2021-08-10T17:11:30.205Z"
   },
   {
    "duration": 79,
    "start_time": "2021-08-10T17:11:30.227Z"
   },
   {
    "duration": 63,
    "start_time": "2021-08-10T17:11:30.308Z"
   },
   {
    "duration": 42,
    "start_time": "2021-08-10T17:11:30.373Z"
   },
   {
    "duration": 6638,
    "start_time": "2021-08-10T17:11:30.420Z"
   },
   {
    "duration": 1833,
    "start_time": "2021-08-10T17:11:37.060Z"
   },
   {
    "duration": 3,
    "start_time": "2021-08-10T17:11:38.900Z"
   },
   {
    "duration": 23,
    "start_time": "2021-08-10T17:11:38.905Z"
   },
   {
    "duration": 171,
    "start_time": "2021-08-10T17:11:38.931Z"
   },
   {
    "duration": 100,
    "start_time": "2021-08-10T17:11:39.105Z"
   },
   {
    "duration": 796,
    "start_time": "2021-08-10T17:11:39.207Z"
   },
   {
    "duration": 136098,
    "start_time": "2021-08-10T17:11:40.006Z"
   },
   {
    "duration": 1896,
    "start_time": "2021-08-10T17:13:56.107Z"
   },
   {
    "duration": 481,
    "start_time": "2021-08-10T17:24:19.950Z"
   },
   {
    "duration": 526,
    "start_time": "2021-08-10T17:24:41.672Z"
   },
   {
    "duration": 4,
    "start_time": "2021-08-10T17:24:53.519Z"
   },
   {
    "duration": 6,
    "start_time": "2021-08-10T17:32:27.304Z"
   },
   {
    "duration": 363,
    "start_time": "2021-08-10T17:32:41.570Z"
   },
   {
    "duration": 6,
    "start_time": "2021-08-10T17:32:51.421Z"
   },
   {
    "duration": 6,
    "start_time": "2021-08-10T18:31:25.902Z"
   },
   {
    "duration": 30,
    "start_time": "2021-08-10T22:15:40.180Z"
   },
   {
    "duration": 1581,
    "start_time": "2021-08-10T22:23:08.961Z"
   },
   {
    "duration": 36,
    "start_time": "2021-08-10T22:23:10.545Z"
   },
   {
    "duration": 4,
    "start_time": "2021-08-10T22:23:10.585Z"
   },
   {
    "duration": 33,
    "start_time": "2021-08-10T22:23:10.592Z"
   },
   {
    "duration": 54,
    "start_time": "2021-08-10T22:23:10.628Z"
   },
   {
    "duration": 66,
    "start_time": "2021-08-10T22:23:10.701Z"
   },
   {
    "duration": 43,
    "start_time": "2021-08-10T22:23:10.770Z"
   },
   {
    "duration": 1583,
    "start_time": "2021-08-10T22:25:30.093Z"
   },
   {
    "duration": 41,
    "start_time": "2021-08-10T22:25:31.679Z"
   },
   {
    "duration": 6,
    "start_time": "2021-08-10T22:25:31.724Z"
   },
   {
    "duration": 36,
    "start_time": "2021-08-10T22:25:31.734Z"
   },
   {
    "duration": 74,
    "start_time": "2021-08-10T22:25:31.774Z"
   },
   {
    "duration": 90,
    "start_time": "2021-08-10T22:25:31.852Z"
   },
   {
    "duration": 26,
    "start_time": "2021-08-10T22:25:31.945Z"
   },
   {
    "duration": 1215,
    "start_time": "2021-08-11T13:20:39.859Z"
   },
   {
    "duration": 54,
    "start_time": "2021-08-11T13:20:41.076Z"
   },
   {
    "duration": 4,
    "start_time": "2021-08-11T13:20:41.132Z"
   },
   {
    "duration": 25,
    "start_time": "2021-08-11T13:20:41.138Z"
   },
   {
    "duration": 42,
    "start_time": "2021-08-11T13:20:41.165Z"
   },
   {
    "duration": 40,
    "start_time": "2021-08-11T13:20:41.209Z"
   },
   {
    "duration": 37,
    "start_time": "2021-08-11T13:20:41.251Z"
   },
   {
    "duration": 4298,
    "start_time": "2021-08-11T13:20:41.290Z"
   },
   {
    "duration": 1321,
    "start_time": "2021-08-11T13:20:45.591Z"
   },
   {
    "duration": 3,
    "start_time": "2021-08-11T13:20:46.913Z"
   },
   {
    "duration": 17,
    "start_time": "2021-08-11T13:20:46.917Z"
   },
   {
    "duration": 151,
    "start_time": "2021-08-11T13:20:46.935Z"
   },
   {
    "duration": 96,
    "start_time": "2021-08-11T13:20:47.088Z"
   },
   {
    "duration": 557,
    "start_time": "2021-08-11T13:20:47.186Z"
   },
   {
    "duration": 1120,
    "start_time": "2021-08-11T13:22:11.334Z"
   },
   {
    "duration": 30,
    "start_time": "2021-08-11T13:22:12.456Z"
   },
   {
    "duration": 4,
    "start_time": "2021-08-11T13:22:12.488Z"
   },
   {
    "duration": 17,
    "start_time": "2021-08-11T13:22:12.494Z"
   },
   {
    "duration": 32,
    "start_time": "2021-08-11T13:22:12.512Z"
   },
   {
    "duration": 68,
    "start_time": "2021-08-11T13:22:12.546Z"
   },
   {
    "duration": 14,
    "start_time": "2021-08-11T13:22:12.615Z"
   },
   {
    "duration": 4002,
    "start_time": "2021-08-11T13:22:12.632Z"
   },
   {
    "duration": 1288,
    "start_time": "2021-08-11T13:22:16.636Z"
   },
   {
    "duration": 2,
    "start_time": "2021-08-11T13:22:17.926Z"
   },
   {
    "duration": 16,
    "start_time": "2021-08-11T13:22:17.930Z"
   },
   {
    "duration": 63,
    "start_time": "2021-08-11T13:22:17.948Z"
   },
   {
    "duration": 8,
    "start_time": "2021-08-11T13:22:18.086Z"
   },
   {
    "duration": 551,
    "start_time": "2021-08-11T13:22:18.186Z"
   },
   {
    "duration": 87954,
    "start_time": "2021-08-11T13:22:18.739Z"
   },
   {
    "duration": 1593,
    "start_time": "2021-08-11T13:23:46.695Z"
   },
   {
    "duration": 4,
    "start_time": "2021-08-11T13:23:48.290Z"
   },
   {
    "duration": 21,
    "start_time": "2021-08-11T13:23:48.295Z"
   },
   {
    "duration": 7,
    "start_time": "2021-08-11T13:23:48.318Z"
   },
   {
    "duration": 6,
    "start_time": "2021-08-11T13:24:51.512Z"
   },
   {
    "duration": 1177,
    "start_time": "2021-08-11T13:33:50.394Z"
   },
   {
    "duration": 31,
    "start_time": "2021-08-11T13:33:51.573Z"
   },
   {
    "duration": 4,
    "start_time": "2021-08-11T13:33:51.606Z"
   },
   {
    "duration": 15,
    "start_time": "2021-08-11T13:33:51.612Z"
   },
   {
    "duration": 56,
    "start_time": "2021-08-11T13:33:51.629Z"
   },
   {
    "duration": 40,
    "start_time": "2021-08-11T13:33:51.687Z"
   },
   {
    "duration": 15,
    "start_time": "2021-08-11T13:33:51.729Z"
   },
   {
    "duration": 4062,
    "start_time": "2021-08-11T13:33:51.746Z"
   },
   {
    "duration": 1291,
    "start_time": "2021-08-11T13:33:55.810Z"
   },
   {
    "duration": 3,
    "start_time": "2021-08-11T13:33:57.102Z"
   },
   {
    "duration": 15,
    "start_time": "2021-08-11T13:33:57.107Z"
   },
   {
    "duration": 169,
    "start_time": "2021-08-11T13:33:57.123Z"
   },
   {
    "duration": 95,
    "start_time": "2021-08-11T13:33:57.294Z"
   },
   {
    "duration": 561,
    "start_time": "2021-08-11T13:33:57.391Z"
   },
   {
    "duration": 88493,
    "start_time": "2021-08-11T13:33:57.953Z"
   },
   {
    "duration": 1838,
    "start_time": "2021-08-11T13:35:26.447Z"
   },
   {
    "duration": 4,
    "start_time": "2021-08-11T13:35:28.287Z"
   },
   {
    "duration": 20,
    "start_time": "2021-08-11T13:35:28.292Z"
   },
   {
    "duration": 6,
    "start_time": "2021-08-11T13:35:28.314Z"
   },
   {
    "duration": 275,
    "start_time": "2021-08-11T13:59:57.617Z"
   },
   {
    "duration": 17,
    "start_time": "2021-08-11T14:00:14.381Z"
   },
   {
    "duration": 19,
    "start_time": "2021-08-11T14:05:08.755Z"
   },
   {
    "duration": 20,
    "start_time": "2021-08-11T14:05:49.907Z"
   },
   {
    "duration": 1196,
    "start_time": "2021-08-11T14:07:18.929Z"
   },
   {
    "duration": 31,
    "start_time": "2021-08-11T14:07:20.127Z"
   },
   {
    "duration": 4,
    "start_time": "2021-08-11T14:07:20.160Z"
   },
   {
    "duration": 20,
    "start_time": "2021-08-11T14:07:20.166Z"
   },
   {
    "duration": 33,
    "start_time": "2021-08-11T14:07:20.188Z"
   },
   {
    "duration": 42,
    "start_time": "2021-08-11T14:07:20.223Z"
   },
   {
    "duration": 16,
    "start_time": "2021-08-11T14:07:20.285Z"
   },
   {
    "duration": 4411,
    "start_time": "2021-08-11T14:07:20.303Z"
   },
   {
    "duration": 1391,
    "start_time": "2021-08-11T14:07:24.717Z"
   },
   {
    "duration": 6,
    "start_time": "2021-08-11T14:07:26.110Z"
   },
   {
    "duration": 17,
    "start_time": "2021-08-11T14:07:26.121Z"
   },
   {
    "duration": 65,
    "start_time": "2021-08-11T14:07:26.140Z"
   },
   {
    "duration": 10,
    "start_time": "2021-08-11T14:07:26.286Z"
   },
   {
    "duration": 603,
    "start_time": "2021-08-11T14:07:26.385Z"
   },
   {
    "duration": 91037,
    "start_time": "2021-08-11T14:07:26.990Z"
   },
   {
    "duration": 1559,
    "start_time": "2021-08-11T14:08:58.029Z"
   },
   {
    "duration": 5,
    "start_time": "2021-08-11T14:08:59.591Z"
   },
   {
    "duration": 24,
    "start_time": "2021-08-11T14:08:59.598Z"
   },
   {
    "duration": 6,
    "start_time": "2021-08-11T14:08:59.623Z"
   },
   {
    "duration": 71,
    "start_time": "2021-08-11T14:08:59.631Z"
   },
   {
    "duration": 1193,
    "start_time": "2021-08-11T14:17:11.270Z"
   },
   {
    "duration": 30,
    "start_time": "2021-08-11T14:17:12.466Z"
   },
   {
    "duration": 5,
    "start_time": "2021-08-11T14:17:12.498Z"
   },
   {
    "duration": 14,
    "start_time": "2021-08-11T14:17:12.505Z"
   },
   {
    "duration": 34,
    "start_time": "2021-08-11T14:17:12.521Z"
   },
   {
    "duration": 66,
    "start_time": "2021-08-11T14:17:12.557Z"
   },
   {
    "duration": 15,
    "start_time": "2021-08-11T14:17:12.625Z"
   },
   {
    "duration": 4030,
    "start_time": "2021-08-11T14:17:12.643Z"
   },
   {
    "duration": 1296,
    "start_time": "2021-08-11T14:17:16.675Z"
   },
   {
    "duration": 2,
    "start_time": "2021-08-11T14:17:17.972Z"
   },
   {
    "duration": 23,
    "start_time": "2021-08-11T14:17:17.976Z"
   },
   {
    "duration": 94,
    "start_time": "2021-08-11T14:17:18.001Z"
   },
   {
    "duration": 91,
    "start_time": "2021-08-11T14:17:18.098Z"
   },
   {
    "duration": 586,
    "start_time": "2021-08-11T14:17:18.190Z"
   },
   {
    "duration": 88564,
    "start_time": "2021-08-11T14:17:18.778Z"
   },
   {
    "duration": 1550,
    "start_time": "2021-08-11T14:18:47.344Z"
   },
   {
    "duration": 4,
    "start_time": "2021-08-11T14:18:48.985Z"
   },
   {
    "duration": 61,
    "start_time": "2021-08-11T14:18:48.991Z"
   },
   {
    "duration": 21,
    "start_time": "2021-08-11T14:18:49.054Z"
   },
   {
    "duration": 24,
    "start_time": "2021-08-11T14:18:49.077Z"
   },
   {
    "duration": 8738,
    "start_time": "2021-08-11T15:51:28.444Z"
   },
   {
    "duration": 8567,
    "start_time": "2021-08-11T15:54:06.334Z"
   },
   {
    "duration": 8719,
    "start_time": "2021-08-11T15:54:34.312Z"
   },
   {
    "duration": 8190,
    "start_time": "2021-08-11T15:56:36.054Z"
   },
   {
    "duration": 3,
    "start_time": "2021-08-11T15:56:54.844Z"
   },
   {
    "duration": 284,
    "start_time": "2021-08-11T16:11:53.102Z"
   },
   {
    "duration": 19,
    "start_time": "2021-08-11T16:14:14.164Z"
   },
   {
    "duration": 18,
    "start_time": "2021-08-11T16:14:28.422Z"
   },
   {
    "duration": 55,
    "start_time": "2021-08-11T16:23:18.974Z"
   },
   {
    "duration": 164,
    "start_time": "2021-08-11T16:23:32.424Z"
   },
   {
    "duration": 168,
    "start_time": "2021-08-11T16:23:47.124Z"
   },
   {
    "duration": 231,
    "start_time": "2021-08-11T16:25:02.964Z"
   },
   {
    "duration": 202,
    "start_time": "2021-08-11T16:27:03.454Z"
   },
   {
    "duration": 183,
    "start_time": "2021-08-11T16:28:12.020Z"
   },
   {
    "duration": 167,
    "start_time": "2021-08-11T16:29:14.294Z"
   },
   {
    "duration": 176,
    "start_time": "2021-08-11T16:31:47.124Z"
   },
   {
    "duration": 269,
    "start_time": "2021-08-11T16:33:23.184Z"
   },
   {
    "duration": 4003,
    "start_time": "2021-08-11T16:33:33.655Z"
   },
   {
    "duration": 4023,
    "start_time": "2021-08-11T16:38:25.444Z"
   },
   {
    "duration": 18,
    "start_time": "2021-08-11T16:38:54.304Z"
   },
   {
    "duration": 175,
    "start_time": "2021-08-11T16:39:21.135Z"
   },
   {
    "duration": 174,
    "start_time": "2021-08-11T16:39:49.884Z"
   },
   {
    "duration": 175,
    "start_time": "2021-08-11T16:40:46.084Z"
   },
   {
    "duration": 175,
    "start_time": "2021-08-11T16:44:13.574Z"
   },
   {
    "duration": 182,
    "start_time": "2021-08-11T16:44:23.962Z"
   },
   {
    "duration": 207,
    "start_time": "2021-08-11T16:45:30.334Z"
   },
   {
    "duration": 19,
    "start_time": "2021-08-11T16:47:01.194Z"
   },
   {
    "duration": 19,
    "start_time": "2021-08-11T16:47:28.812Z"
   },
   {
    "duration": 17,
    "start_time": "2021-08-11T16:47:43.334Z"
   },
   {
    "duration": 174,
    "start_time": "2021-08-11T16:49:40.724Z"
   },
   {
    "duration": 19,
    "start_time": "2021-08-11T16:49:56.674Z"
   },
   {
    "duration": 113,
    "start_time": "2021-08-11T17:06:25.074Z"
   },
   {
    "duration": 51,
    "start_time": "2021-08-11T17:07:10.634Z"
   },
   {
    "duration": 74,
    "start_time": "2021-08-11T17:09:56.012Z"
   },
   {
    "duration": 444,
    "start_time": "2021-08-11T17:12:04.874Z"
   },
   {
    "duration": 411,
    "start_time": "2021-08-11T17:14:16.205Z"
   },
   {
    "duration": 30,
    "start_time": "2021-08-11T17:16:57.434Z"
   },
   {
    "duration": 240,
    "start_time": "2021-08-11T17:17:10.624Z"
   },
   {
    "duration": 1155,
    "start_time": "2021-08-11T17:48:30.532Z"
   },
   {
    "duration": 30,
    "start_time": "2021-08-11T17:48:31.690Z"
   },
   {
    "duration": 11,
    "start_time": "2021-08-11T17:48:31.722Z"
   },
   {
    "duration": 32,
    "start_time": "2021-08-11T17:48:31.735Z"
   },
   {
    "duration": 44,
    "start_time": "2021-08-11T17:48:31.768Z"
   },
   {
    "duration": 43,
    "start_time": "2021-08-11T17:48:31.814Z"
   },
   {
    "duration": 32,
    "start_time": "2021-08-11T17:48:31.859Z"
   },
   {
    "duration": 4146,
    "start_time": "2021-08-11T17:48:31.893Z"
   },
   {
    "duration": 1317,
    "start_time": "2021-08-11T17:48:36.042Z"
   },
   {
    "duration": 2,
    "start_time": "2021-08-11T17:48:37.361Z"
   },
   {
    "duration": 21,
    "start_time": "2021-08-11T17:48:37.365Z"
   },
   {
    "duration": 99,
    "start_time": "2021-08-11T17:48:37.388Z"
   },
   {
    "duration": 97,
    "start_time": "2021-08-11T17:48:37.489Z"
   },
   {
    "duration": 477,
    "start_time": "2021-08-11T17:48:37.111Z"
   },
   {
    "duration": 475,
    "start_time": "2021-08-11T17:48:37.114Z"
   },
   {
    "duration": 459,
    "start_time": "2021-08-11T17:48:37.131Z"
   },
   {
    "duration": 454,
    "start_time": "2021-08-11T17:48:37.137Z"
   },
   {
    "duration": 451,
    "start_time": "2021-08-11T17:48:37.140Z"
   },
   {
    "duration": 448,
    "start_time": "2021-08-11T17:48:37.144Z"
   },
   {
    "duration": 446,
    "start_time": "2021-08-11T17:48:37.147Z"
   },
   {
    "duration": 440,
    "start_time": "2021-08-11T17:48:37.154Z"
   },
   {
    "duration": 437,
    "start_time": "2021-08-11T17:48:37.158Z"
   },
   {
    "duration": 436,
    "start_time": "2021-08-11T17:48:37.160Z"
   },
   {
    "duration": 1169,
    "start_time": "2021-08-11T17:50:08.899Z"
   },
   {
    "duration": 30,
    "start_time": "2021-08-11T17:50:10.070Z"
   },
   {
    "duration": 4,
    "start_time": "2021-08-11T17:50:10.102Z"
   },
   {
    "duration": 16,
    "start_time": "2021-08-11T17:50:10.108Z"
   },
   {
    "duration": 33,
    "start_time": "2021-08-11T17:50:10.126Z"
   },
   {
    "duration": 41,
    "start_time": "2021-08-11T17:50:10.185Z"
   },
   {
    "duration": 15,
    "start_time": "2021-08-11T17:50:10.227Z"
   },
   {
    "duration": 4092,
    "start_time": "2021-08-11T17:50:10.244Z"
   },
   {
    "duration": 1301,
    "start_time": "2021-08-11T17:50:14.340Z"
   },
   {
    "duration": 2,
    "start_time": "2021-08-11T17:50:15.643Z"
   },
   {
    "duration": 13,
    "start_time": "2021-08-11T17:50:15.647Z"
   },
   {
    "duration": 123,
    "start_time": "2021-08-11T17:50:15.662Z"
   },
   {
    "duration": 98,
    "start_time": "2021-08-11T17:50:15.788Z"
   },
   {
    "duration": 186,
    "start_time": "2021-08-11T17:50:15.703Z"
   },
   {
    "duration": 182,
    "start_time": "2021-08-11T17:50:15.709Z"
   },
   {
    "duration": 179,
    "start_time": "2021-08-11T17:50:15.713Z"
   },
   {
    "duration": 135,
    "start_time": "2021-08-11T17:50:15.759Z"
   },
   {
    "duration": 123,
    "start_time": "2021-08-11T17:50:15.772Z"
   },
   {
    "duration": 118,
    "start_time": "2021-08-11T17:50:15.779Z"
   },
   {
    "duration": 104,
    "start_time": "2021-08-11T17:50:15.794Z"
   },
   {
    "duration": 103,
    "start_time": "2021-08-11T17:50:15.797Z"
   },
   {
    "duration": 98,
    "start_time": "2021-08-11T17:50:15.803Z"
   },
   {
    "duration": 98,
    "start_time": "2021-08-11T17:50:15.805Z"
   },
   {
    "duration": 1202,
    "start_time": "2021-08-11T17:53:07.766Z"
   },
   {
    "duration": 30,
    "start_time": "2021-08-11T17:53:08.970Z"
   },
   {
    "duration": 4,
    "start_time": "2021-08-11T17:53:09.002Z"
   },
   {
    "duration": 16,
    "start_time": "2021-08-11T17:53:09.008Z"
   },
   {
    "duration": 32,
    "start_time": "2021-08-11T17:53:09.025Z"
   },
   {
    "duration": 66,
    "start_time": "2021-08-11T17:53:09.059Z"
   },
   {
    "duration": 15,
    "start_time": "2021-08-11T17:53:09.127Z"
   },
   {
    "duration": 4109,
    "start_time": "2021-08-11T17:53:09.144Z"
   },
   {
    "duration": 1273,
    "start_time": "2021-08-11T17:53:13.255Z"
   },
   {
    "duration": 2,
    "start_time": "2021-08-11T17:53:14.530Z"
   },
   {
    "duration": 14,
    "start_time": "2021-08-11T17:53:14.533Z"
   },
   {
    "duration": 54,
    "start_time": "2021-08-11T17:53:14.548Z"
   },
   {
    "duration": 154,
    "start_time": "2021-08-11T17:53:14.686Z"
   },
   {
    "duration": 877,
    "start_time": "2021-08-11T17:53:13.964Z"
   },
   {
    "duration": 871,
    "start_time": "2021-08-11T17:53:13.972Z"
   },
   {
    "duration": 865,
    "start_time": "2021-08-11T17:53:13.979Z"
   },
   {
    "duration": 859,
    "start_time": "2021-08-11T17:53:13.986Z"
   },
   {
    "duration": 854,
    "start_time": "2021-08-11T17:53:13.992Z"
   },
   {
    "duration": 850,
    "start_time": "2021-08-11T17:53:13.997Z"
   },
   {
    "duration": 815,
    "start_time": "2021-08-11T17:53:14.033Z"
   },
   {
    "duration": 807,
    "start_time": "2021-08-11T17:53:14.042Z"
   },
   {
    "duration": 803,
    "start_time": "2021-08-11T17:53:14.047Z"
   },
   {
    "duration": 801,
    "start_time": "2021-08-11T17:53:14.051Z"
   },
   {
    "duration": 1211,
    "start_time": "2021-08-11T17:53:30.059Z"
   },
   {
    "duration": 30,
    "start_time": "2021-08-11T17:53:31.272Z"
   },
   {
    "duration": 4,
    "start_time": "2021-08-11T17:53:31.304Z"
   },
   {
    "duration": 21,
    "start_time": "2021-08-11T17:53:31.309Z"
   },
   {
    "duration": 41,
    "start_time": "2021-08-11T17:53:31.331Z"
   },
   {
    "duration": 52,
    "start_time": "2021-08-11T17:53:31.374Z"
   },
   {
    "duration": 16,
    "start_time": "2021-08-11T17:53:31.428Z"
   },
   {
    "duration": 4059,
    "start_time": "2021-08-11T17:53:31.447Z"
   },
   {
    "duration": 1263,
    "start_time": "2021-08-11T17:53:35.508Z"
   },
   {
    "duration": 2,
    "start_time": "2021-08-11T17:53:36.773Z"
   },
   {
    "duration": 16,
    "start_time": "2021-08-11T17:53:36.777Z"
   },
   {
    "duration": 94,
    "start_time": "2021-08-11T17:53:36.794Z"
   },
   {
    "duration": 96,
    "start_time": "2021-08-11T17:53:36.891Z"
   },
   {
    "duration": 880,
    "start_time": "2021-08-11T17:53:36.109Z"
   },
   {
    "duration": 875,
    "start_time": "2021-08-11T17:53:36.115Z"
   },
   {
    "duration": 870,
    "start_time": "2021-08-11T17:53:36.121Z"
   },
   {
    "duration": 869,
    "start_time": "2021-08-11T17:53:36.123Z"
   },
   {
    "duration": 866,
    "start_time": "2021-08-11T17:53:36.127Z"
   },
   {
    "duration": 862,
    "start_time": "2021-08-11T17:53:36.132Z"
   },
   {
    "duration": 859,
    "start_time": "2021-08-11T17:53:36.136Z"
   },
   {
    "duration": 858,
    "start_time": "2021-08-11T17:53:36.139Z"
   },
   {
    "duration": 856,
    "start_time": "2021-08-11T17:53:36.142Z"
   },
   {
    "duration": 855,
    "start_time": "2021-08-11T17:53:36.144Z"
   },
   {
    "duration": 1163,
    "start_time": "2021-08-11T17:53:50.792Z"
   },
   {
    "duration": 30,
    "start_time": "2021-08-11T17:53:51.957Z"
   },
   {
    "duration": 6,
    "start_time": "2021-08-11T17:53:51.989Z"
   },
   {
    "duration": 20,
    "start_time": "2021-08-11T17:53:51.997Z"
   },
   {
    "duration": 39,
    "start_time": "2021-08-11T17:53:52.018Z"
   },
   {
    "duration": 49,
    "start_time": "2021-08-11T17:53:52.058Z"
   },
   {
    "duration": 15,
    "start_time": "2021-08-11T17:53:52.109Z"
   },
   {
    "duration": 3934,
    "start_time": "2021-08-11T17:53:52.125Z"
   },
   {
    "duration": 1257,
    "start_time": "2021-08-11T17:53:56.062Z"
   },
   {
    "duration": 2,
    "start_time": "2021-08-11T17:53:57.322Z"
   },
   {
    "duration": 13,
    "start_time": "2021-08-11T17:53:57.325Z"
   },
   {
    "duration": 54,
    "start_time": "2021-08-11T17:53:57.340Z"
   },
   {
    "duration": 55,
    "start_time": "2021-08-11T17:53:57.486Z"
   },
   {
    "duration": 615,
    "start_time": "2021-08-11T17:53:56.928Z"
   },
   {
    "duration": 611,
    "start_time": "2021-08-11T17:53:56.933Z"
   },
   {
    "duration": 648,
    "start_time": "2021-08-11T17:53:56.937Z"
   },
   {
    "duration": 644,
    "start_time": "2021-08-11T17:53:56.942Z"
   },
   {
    "duration": 639,
    "start_time": "2021-08-11T17:53:56.948Z"
   },
   {
    "duration": 627,
    "start_time": "2021-08-11T17:53:56.961Z"
   },
   {
    "duration": 624,
    "start_time": "2021-08-11T17:53:56.965Z"
   },
   {
    "duration": 620,
    "start_time": "2021-08-11T17:53:56.970Z"
   },
   {
    "duration": 619,
    "start_time": "2021-08-11T17:53:56.972Z"
   },
   {
    "duration": 616,
    "start_time": "2021-08-11T17:53:56.976Z"
   },
   {
    "duration": 1210,
    "start_time": "2021-08-11T17:54:20.359Z"
   },
   {
    "duration": 31,
    "start_time": "2021-08-11T17:54:21.571Z"
   },
   {
    "duration": 4,
    "start_time": "2021-08-11T17:54:21.603Z"
   },
   {
    "duration": 33,
    "start_time": "2021-08-11T17:54:21.609Z"
   },
   {
    "duration": 41,
    "start_time": "2021-08-11T17:54:21.643Z"
   },
   {
    "duration": 43,
    "start_time": "2021-08-11T17:54:21.685Z"
   },
   {
    "duration": 16,
    "start_time": "2021-08-11T17:54:21.730Z"
   },
   {
    "duration": 4169,
    "start_time": "2021-08-11T17:54:21.748Z"
   },
   {
    "duration": 1254,
    "start_time": "2021-08-11T17:54:25.920Z"
   },
   {
    "duration": 10,
    "start_time": "2021-08-11T17:54:27.176Z"
   },
   {
    "duration": 13,
    "start_time": "2021-08-11T17:54:27.187Z"
   },
   {
    "duration": 85,
    "start_time": "2021-08-11T17:54:27.202Z"
   },
   {
    "duration": 98,
    "start_time": "2021-08-11T17:54:27.289Z"
   },
   {
    "duration": 564,
    "start_time": "2021-08-11T17:54:26.825Z"
   },
   {
    "duration": 561,
    "start_time": "2021-08-11T17:54:26.830Z"
   },
   {
    "duration": 558,
    "start_time": "2021-08-11T17:54:26.834Z"
   },
   {
    "duration": 555,
    "start_time": "2021-08-11T17:54:26.839Z"
   },
   {
    "duration": 553,
    "start_time": "2021-08-11T17:54:26.842Z"
   },
   {
    "duration": 550,
    "start_time": "2021-08-11T17:54:26.846Z"
   },
   {
    "duration": 550,
    "start_time": "2021-08-11T17:54:26.848Z"
   },
   {
    "duration": 548,
    "start_time": "2021-08-11T17:54:26.851Z"
   },
   {
    "duration": 547,
    "start_time": "2021-08-11T17:54:26.854Z"
   },
   {
    "duration": 544,
    "start_time": "2021-08-11T17:54:26.859Z"
   },
   {
    "duration": 1300,
    "start_time": "2021-08-11T17:56:59.380Z"
   },
   {
    "duration": 31,
    "start_time": "2021-08-11T17:57:00.682Z"
   },
   {
    "duration": 5,
    "start_time": "2021-08-11T17:57:00.715Z"
   },
   {
    "duration": 17,
    "start_time": "2021-08-11T17:57:00.722Z"
   },
   {
    "duration": 52,
    "start_time": "2021-08-11T17:57:00.741Z"
   },
   {
    "duration": 56,
    "start_time": "2021-08-11T17:57:00.796Z"
   },
   {
    "duration": 41,
    "start_time": "2021-08-11T17:57:00.854Z"
   },
   {
    "duration": 4225,
    "start_time": "2021-08-11T17:57:00.897Z"
   },
   {
    "duration": 1414,
    "start_time": "2021-08-11T17:57:05.124Z"
   },
   {
    "duration": 3,
    "start_time": "2021-08-11T17:57:06.540Z"
   },
   {
    "duration": 14,
    "start_time": "2021-08-11T17:57:06.544Z"
   },
   {
    "duration": 55,
    "start_time": "2021-08-11T17:57:06.560Z"
   },
   {
    "duration": 76,
    "start_time": "2021-08-11T17:57:06.617Z"
   },
   {
    "duration": -148,
    "start_time": "2021-08-11T17:57:06.843Z"
   },
   {
    "duration": -152,
    "start_time": "2021-08-11T17:57:06.849Z"
   },
   {
    "duration": -69,
    "start_time": "2021-08-11T17:57:06.853Z"
   },
   {
    "duration": -78,
    "start_time": "2021-08-11T17:57:06.863Z"
   },
   {
    "duration": -81,
    "start_time": "2021-08-11T17:57:06.867Z"
   },
   {
    "duration": -83,
    "start_time": "2021-08-11T17:57:06.870Z"
   },
   {
    "duration": -86,
    "start_time": "2021-08-11T17:57:06.874Z"
   },
   {
    "duration": -87,
    "start_time": "2021-08-11T17:57:06.876Z"
   },
   {
    "duration": -89,
    "start_time": "2021-08-11T17:57:06.879Z"
   },
   {
    "duration": -91,
    "start_time": "2021-08-11T17:57:06.882Z"
   },
   {
    "duration": 1136,
    "start_time": "2021-08-11T17:57:39.350Z"
   },
   {
    "duration": 37,
    "start_time": "2021-08-11T17:57:40.488Z"
   },
   {
    "duration": 5,
    "start_time": "2021-08-11T17:57:40.528Z"
   },
   {
    "duration": 20,
    "start_time": "2021-08-11T17:57:40.536Z"
   },
   {
    "duration": 56,
    "start_time": "2021-08-11T17:57:40.558Z"
   },
   {
    "duration": 43,
    "start_time": "2021-08-11T17:57:40.615Z"
   },
   {
    "duration": 36,
    "start_time": "2021-08-11T17:57:40.660Z"
   },
   {
    "duration": 4218,
    "start_time": "2021-08-11T17:57:40.698Z"
   },
   {
    "duration": 1384,
    "start_time": "2021-08-11T17:57:44.919Z"
   },
   {
    "duration": 3,
    "start_time": "2021-08-11T17:57:46.306Z"
   },
   {
    "duration": 19,
    "start_time": "2021-08-11T17:57:46.311Z"
   },
   {
    "duration": 57,
    "start_time": "2021-08-11T17:57:46.333Z"
   },
   {
    "duration": 137,
    "start_time": "2021-08-11T17:57:46.393Z"
   },
   {
    "duration": 6,
    "start_time": "2021-08-11T17:57:46.532Z"
   },
   {
    "duration": 649,
    "start_time": "2021-08-11T17:57:46.540Z"
   },
   {
    "duration": 90553,
    "start_time": "2021-08-11T17:57:47.191Z"
   },
   {
    "duration": 1440,
    "start_time": "2021-08-11T17:59:17.745Z"
   },
   {
    "duration": 4,
    "start_time": "2021-08-11T17:59:19.187Z"
   },
   {
    "duration": 20,
    "start_time": "2021-08-11T17:59:19.193Z"
   },
   {
    "duration": 8,
    "start_time": "2021-08-11T17:59:19.215Z"
   },
   {
    "duration": 18,
    "start_time": "2021-08-11T17:59:19.224Z"
   },
   {
    "duration": 8391,
    "start_time": "2021-08-11T17:59:19.243Z"
   },
   {
    "duration": 18,
    "start_time": "2021-08-11T17:59:27.635Z"
   },
   {
    "duration": 45,
    "start_time": "2021-08-11T19:45:05.333Z"
   },
   {
    "duration": 1178,
    "start_time": "2021-08-11T20:16:02.405Z"
   },
   {
    "duration": 31,
    "start_time": "2021-08-11T20:16:03.585Z"
   },
   {
    "duration": 4,
    "start_time": "2021-08-11T20:16:03.617Z"
   },
   {
    "duration": 15,
    "start_time": "2021-08-11T20:16:03.623Z"
   },
   {
    "duration": 46,
    "start_time": "2021-08-11T20:16:03.639Z"
   },
   {
    "duration": 40,
    "start_time": "2021-08-11T20:16:03.686Z"
   },
   {
    "duration": 15,
    "start_time": "2021-08-11T20:16:03.728Z"
   },
   {
    "duration": 1140,
    "start_time": "2021-08-11T20:17:42.919Z"
   },
   {
    "duration": 31,
    "start_time": "2021-08-11T20:17:44.061Z"
   },
   {
    "duration": 4,
    "start_time": "2021-08-11T20:17:44.094Z"
   },
   {
    "duration": 15,
    "start_time": "2021-08-11T20:17:44.100Z"
   },
   {
    "duration": 32,
    "start_time": "2021-08-11T20:17:44.116Z"
   },
   {
    "duration": 65,
    "start_time": "2021-08-11T20:17:44.150Z"
   },
   {
    "duration": 15,
    "start_time": "2021-08-11T20:17:44.217Z"
   },
   {
    "duration": 4037,
    "start_time": "2021-08-11T20:17:44.234Z"
   },
   {
    "duration": 1308,
    "start_time": "2021-08-11T20:17:48.273Z"
   },
   {
    "duration": 3,
    "start_time": "2021-08-11T20:17:49.584Z"
   },
   {
    "duration": 18,
    "start_time": "2021-08-11T20:17:49.588Z"
   },
   {
    "duration": 82,
    "start_time": "2021-08-11T20:17:49.607Z"
   },
   {
    "duration": 130,
    "start_time": "2021-08-11T20:17:49.692Z"
   },
   {
    "duration": 7,
    "start_time": "2021-08-11T20:17:49.825Z"
   },
   {
    "duration": 615,
    "start_time": "2021-08-11T20:17:49.833Z"
   },
   {
    "duration": 87493,
    "start_time": "2021-08-11T20:17:50.450Z"
   },
   {
    "duration": 1440,
    "start_time": "2021-08-11T20:19:17.945Z"
   },
   {
    "duration": 4,
    "start_time": "2021-08-11T20:19:19.387Z"
   },
   {
    "duration": 20,
    "start_time": "2021-08-11T20:19:19.392Z"
   },
   {
    "duration": 6,
    "start_time": "2021-08-11T20:19:19.413Z"
   },
   {
    "duration": 18,
    "start_time": "2021-08-11T20:19:19.421Z"
   },
   {
    "duration": 10426,
    "start_time": "2021-08-11T20:19:19.441Z"
   },
   {
    "duration": 26,
    "start_time": "2021-08-11T20:19:29.870Z"
   },
   {
    "duration": 1552,
    "start_time": "2021-08-12T13:52:41.364Z"
   },
   {
    "duration": 37,
    "start_time": "2021-08-12T13:52:42.919Z"
   },
   {
    "duration": 5,
    "start_time": "2021-08-12T13:52:42.959Z"
   },
   {
    "duration": 22,
    "start_time": "2021-08-12T13:52:42.966Z"
   },
   {
    "duration": 93,
    "start_time": "2021-08-12T13:52:42.990Z"
   },
   {
    "duration": 88,
    "start_time": "2021-08-12T13:52:43.085Z"
   },
   {
    "duration": 25,
    "start_time": "2021-08-12T13:52:43.176Z"
   },
   {
    "duration": 6194,
    "start_time": "2021-08-12T13:52:43.204Z"
   },
   {
    "duration": 1807,
    "start_time": "2021-08-12T13:52:49.401Z"
   },
   {
    "duration": 3,
    "start_time": "2021-08-12T13:52:51.210Z"
   },
   {
    "duration": 42,
    "start_time": "2021-08-12T13:52:51.215Z"
   },
   {
    "duration": 101,
    "start_time": "2021-08-12T13:52:51.260Z"
   },
   {
    "duration": 62,
    "start_time": "2021-08-12T13:52:51.454Z"
   },
   {
    "duration": 7,
    "start_time": "2021-08-12T13:52:51.519Z"
   },
   {
    "duration": 773,
    "start_time": "2021-08-12T13:52:51.554Z"
   },
   {
    "duration": 1506,
    "start_time": "2021-08-12T13:53:54.274Z"
   },
   {
    "duration": 42,
    "start_time": "2021-08-12T13:53:55.782Z"
   },
   {
    "duration": 5,
    "start_time": "2021-08-12T13:53:55.828Z"
   },
   {
    "duration": 22,
    "start_time": "2021-08-12T13:53:55.854Z"
   },
   {
    "duration": 85,
    "start_time": "2021-08-12T13:53:55.879Z"
   },
   {
    "duration": 64,
    "start_time": "2021-08-12T13:53:55.966Z"
   },
   {
    "duration": 40,
    "start_time": "2021-08-12T13:53:56.032Z"
   },
   {
    "duration": 6367,
    "start_time": "2021-08-12T13:53:56.076Z"
   },
   {
    "duration": 1825,
    "start_time": "2021-08-12T13:54:02.447Z"
   },
   {
    "duration": 4,
    "start_time": "2021-08-12T13:54:04.275Z"
   },
   {
    "duration": 22,
    "start_time": "2021-08-12T13:54:04.282Z"
   },
   {
    "duration": 249,
    "start_time": "2021-08-12T13:54:04.307Z"
   },
   {
    "duration": 66,
    "start_time": "2021-08-12T13:54:04.559Z"
   },
   {
    "duration": 27,
    "start_time": "2021-08-12T13:54:04.628Z"
   },
   {
    "duration": 815,
    "start_time": "2021-08-12T13:54:04.657Z"
   },
   {
    "duration": 1594,
    "start_time": "2021-08-12T13:54:37.353Z"
   },
   {
    "duration": 36,
    "start_time": "2021-08-12T13:54:38.950Z"
   },
   {
    "duration": 5,
    "start_time": "2021-08-12T13:54:38.989Z"
   },
   {
    "duration": 60,
    "start_time": "2021-08-12T13:54:38.997Z"
   },
   {
    "duration": 51,
    "start_time": "2021-08-12T13:54:39.060Z"
   },
   {
    "duration": 79,
    "start_time": "2021-08-12T13:54:39.114Z"
   },
   {
    "duration": 61,
    "start_time": "2021-08-12T13:54:39.195Z"
   },
   {
    "duration": 6388,
    "start_time": "2021-08-12T13:54:39.259Z"
   },
   {
    "duration": 1846,
    "start_time": "2021-08-12T13:54:45.656Z"
   },
   {
    "duration": 4,
    "start_time": "2021-08-12T13:54:47.506Z"
   },
   {
    "duration": 49,
    "start_time": "2021-08-12T13:54:47.513Z"
   },
   {
    "duration": 97,
    "start_time": "2021-08-12T13:54:47.564Z"
   },
   {
    "duration": 158,
    "start_time": "2021-08-12T13:54:47.664Z"
   },
   {
    "duration": 36,
    "start_time": "2021-08-12T13:54:47.825Z"
   },
   {
    "duration": 811,
    "start_time": "2021-08-12T13:54:47.863Z"
   },
   {
    "duration": 1503,
    "start_time": "2021-08-12T13:56:13.738Z"
   },
   {
    "duration": 45,
    "start_time": "2021-08-12T13:56:15.244Z"
   },
   {
    "duration": 5,
    "start_time": "2021-08-12T13:56:15.292Z"
   },
   {
    "duration": 24,
    "start_time": "2021-08-12T13:56:15.300Z"
   },
   {
    "duration": 75,
    "start_time": "2021-08-12T13:56:15.327Z"
   },
   {
    "duration": 89,
    "start_time": "2021-08-12T13:56:15.405Z"
   },
   {
    "duration": 23,
    "start_time": "2021-08-12T13:56:15.496Z"
   },
   {
    "duration": 6414,
    "start_time": "2021-08-12T13:56:15.522Z"
   },
   {
    "duration": 1883,
    "start_time": "2021-08-12T13:56:21.939Z"
   },
   {
    "duration": 3,
    "start_time": "2021-08-12T13:56:23.825Z"
   },
   {
    "duration": 34,
    "start_time": "2021-08-12T13:56:23.830Z"
   },
   {
    "duration": 95,
    "start_time": "2021-08-12T13:56:23.867Z"
   },
   {
    "duration": 66,
    "start_time": "2021-08-12T13:56:24.055Z"
   },
   {
    "duration": 34,
    "start_time": "2021-08-12T13:56:24.123Z"
   },
   {
    "duration": 938,
    "start_time": "2021-08-12T13:56:24.160Z"
   },
   {
    "duration": 1541,
    "start_time": "2021-08-12T13:57:58.872Z"
   },
   {
    "duration": 41,
    "start_time": "2021-08-12T13:58:00.416Z"
   },
   {
    "duration": 6,
    "start_time": "2021-08-12T13:58:00.460Z"
   },
   {
    "duration": 38,
    "start_time": "2021-08-12T13:58:00.469Z"
   },
   {
    "duration": 87,
    "start_time": "2021-08-12T13:58:00.510Z"
   },
   {
    "duration": 87,
    "start_time": "2021-08-12T13:58:00.599Z"
   },
   {
    "duration": 22,
    "start_time": "2021-08-12T13:58:00.689Z"
   },
   {
    "duration": 6500,
    "start_time": "2021-08-12T13:58:00.714Z"
   },
   {
    "duration": 1875,
    "start_time": "2021-08-12T13:58:07.218Z"
   },
   {
    "duration": 4,
    "start_time": "2021-08-12T13:58:09.095Z"
   },
   {
    "duration": 52,
    "start_time": "2021-08-12T13:58:09.102Z"
   },
   {
    "duration": 198,
    "start_time": "2021-08-12T13:58:09.157Z"
   },
   {
    "duration": 68,
    "start_time": "2021-08-12T13:58:09.357Z"
   },
   {
    "duration": 33,
    "start_time": "2021-08-12T13:58:09.427Z"
   },
   {
    "duration": 826,
    "start_time": "2021-08-12T13:58:09.462Z"
   },
   {
    "duration": 1627,
    "start_time": "2021-08-12T14:01:53.075Z"
   },
   {
    "duration": 49,
    "start_time": "2021-08-12T14:01:54.705Z"
   },
   {
    "duration": 6,
    "start_time": "2021-08-12T14:01:54.757Z"
   },
   {
    "duration": 51,
    "start_time": "2021-08-12T14:01:54.765Z"
   },
   {
    "duration": 72,
    "start_time": "2021-08-12T14:01:54.818Z"
   },
   {
    "duration": 88,
    "start_time": "2021-08-12T14:01:54.893Z"
   },
   {
    "duration": 24,
    "start_time": "2021-08-12T14:01:54.983Z"
   },
   {
    "duration": 6628,
    "start_time": "2021-08-12T14:01:55.012Z"
   },
   {
    "duration": 1839,
    "start_time": "2021-08-12T14:02:01.643Z"
   },
   {
    "duration": 4,
    "start_time": "2021-08-12T14:02:03.485Z"
   },
   {
    "duration": 62,
    "start_time": "2021-08-12T14:02:03.492Z"
   },
   {
    "duration": 107,
    "start_time": "2021-08-12T14:02:03.557Z"
   },
   {
    "duration": 110,
    "start_time": "2021-08-12T14:02:03.756Z"
   },
   {
    "duration": 10,
    "start_time": "2021-08-12T14:02:03.869Z"
   },
   {
    "duration": 844,
    "start_time": "2021-08-12T14:02:03.883Z"
   },
   {
    "duration": 1580,
    "start_time": "2021-08-12T14:04:11.928Z"
   },
   {
    "duration": 38,
    "start_time": "2021-08-12T14:04:13.510Z"
   },
   {
    "duration": 6,
    "start_time": "2021-08-12T14:04:13.554Z"
   },
   {
    "duration": 34,
    "start_time": "2021-08-12T14:04:13.564Z"
   },
   {
    "duration": 103,
    "start_time": "2021-08-12T14:04:13.602Z"
   },
   {
    "duration": 105,
    "start_time": "2021-08-12T14:04:13.708Z"
   },
   {
    "duration": 48,
    "start_time": "2021-08-12T14:04:13.815Z"
   },
   {
    "duration": 6606,
    "start_time": "2021-08-12T14:04:13.869Z"
   },
   {
    "duration": 1846,
    "start_time": "2021-08-12T14:04:20.479Z"
   },
   {
    "duration": 4,
    "start_time": "2021-08-12T14:04:22.328Z"
   },
   {
    "duration": 35,
    "start_time": "2021-08-12T14:04:22.335Z"
   },
   {
    "duration": 183,
    "start_time": "2021-08-12T14:04:22.373Z"
   },
   {
    "duration": 158,
    "start_time": "2021-08-12T14:04:22.559Z"
   },
   {
    "duration": 8,
    "start_time": "2021-08-12T14:04:22.719Z"
   },
   {
    "duration": 831,
    "start_time": "2021-08-12T14:04:22.729Z"
   },
   {
    "duration": 1609,
    "start_time": "2021-08-12T14:05:33.016Z"
   },
   {
    "duration": 43,
    "start_time": "2021-08-12T14:05:34.628Z"
   },
   {
    "duration": 5,
    "start_time": "2021-08-12T14:05:34.674Z"
   },
   {
    "duration": 38,
    "start_time": "2021-08-12T14:05:34.682Z"
   },
   {
    "duration": 53,
    "start_time": "2021-08-12T14:05:34.754Z"
   },
   {
    "duration": 111,
    "start_time": "2021-08-12T14:05:34.810Z"
   },
   {
    "duration": 47,
    "start_time": "2021-08-12T14:05:34.924Z"
   },
   {
    "duration": 7786,
    "start_time": "2021-08-12T14:05:34.977Z"
   },
   {
    "duration": 1881,
    "start_time": "2021-08-12T14:05:42.766Z"
   },
   {
    "duration": 4,
    "start_time": "2021-08-12T14:05:44.650Z"
   },
   {
    "duration": 21,
    "start_time": "2021-08-12T14:05:44.657Z"
   },
   {
    "duration": 177,
    "start_time": "2021-08-12T14:05:44.681Z"
   },
   {
    "duration": 152,
    "start_time": "2021-08-12T14:05:44.863Z"
   },
   {
    "duration": 8,
    "start_time": "2021-08-12T14:05:45.018Z"
   },
   {
    "duration": 832,
    "start_time": "2021-08-12T14:05:45.055Z"
   },
   {
    "duration": 1658,
    "start_time": "2021-08-12T14:08:12.110Z"
   },
   {
    "duration": 6,
    "start_time": "2021-08-12T14:08:13.770Z"
   },
   {
    "duration": 34,
    "start_time": "2021-08-12T14:08:13.778Z"
   },
   {
    "duration": 46,
    "start_time": "2021-08-12T14:08:13.815Z"
   },
   {
    "duration": 26,
    "start_time": "2021-08-12T14:08:13.864Z"
   },
   {
    "duration": 16461,
    "start_time": "2021-08-12T14:08:13.893Z"
   },
   {
    "duration": 38,
    "start_time": "2021-08-12T14:08:30.360Z"
   },
   {
    "duration": 859,
    "start_time": "2021-08-12T14:08:30.402Z"
   },
   {
    "duration": 145194,
    "start_time": "2021-08-12T14:08:31.264Z"
   },
   {
    "duration": 17,
    "start_time": "2021-08-12T14:32:53.326Z"
   },
   {
    "duration": 6,
    "start_time": "2021-08-12T18:43:01.627Z"
   },
   {
    "duration": 8,
    "start_time": "2021-08-12T18:43:10.102Z"
   },
   {
    "duration": 12,
    "start_time": "2021-08-12T18:44:33.110Z"
   },
   {
    "duration": 270,
    "start_time": "2021-08-12T18:45:23.134Z"
   },
   {
    "duration": 2667,
    "start_time": "2021-08-12T18:52:49.061Z"
   },
   {
    "duration": 687,
    "start_time": "2021-08-12T18:54:19.914Z"
   },
   {
    "duration": 676,
    "start_time": "2021-08-12T18:57:23.273Z"
   },
   {
    "duration": 669,
    "start_time": "2021-08-12T18:58:11.609Z"
   },
   {
    "duration": 29,
    "start_time": "2021-08-12T18:59:11.397Z"
   },
   {
    "duration": 30,
    "start_time": "2021-08-12T18:59:34.805Z"
   },
   {
    "duration": 416,
    "start_time": "2021-08-12T19:05:43.381Z"
   },
   {
    "duration": 621,
    "start_time": "2021-08-12T19:05:59.013Z"
   },
   {
    "duration": 492,
    "start_time": "2021-08-12T19:06:33.081Z"
   },
   {
    "duration": 638,
    "start_time": "2021-08-12T19:07:00.669Z"
   },
   {
    "duration": 610,
    "start_time": "2021-08-12T19:08:34.924Z"
   },
   {
    "duration": 1437,
    "start_time": "2021-08-12T19:11:38.063Z"
   },
   {
    "duration": 1518,
    "start_time": "2021-08-12T19:12:11.784Z"
   },
   {
    "duration": 1551,
    "start_time": "2021-08-12T19:13:10.416Z"
   },
   {
    "duration": 594,
    "start_time": "2021-08-12T19:13:35.636Z"
   },
   {
    "duration": 1021,
    "start_time": "2021-08-12T19:14:15.074Z"
   },
   {
    "duration": 435,
    "start_time": "2021-08-12T20:32:25.417Z"
   },
   {
    "duration": 340,
    "start_time": "2021-08-12T20:32:42.305Z"
   },
   {
    "duration": 641,
    "start_time": "2021-08-12T20:33:38.674Z"
   },
   {
    "duration": 1048,
    "start_time": "2021-08-12T20:36:57.694Z"
   },
   {
    "duration": 1209,
    "start_time": "2021-08-12T20:37:35.001Z"
   },
   {
    "duration": 107,
    "start_time": "2021-08-12T20:40:28.177Z"
   },
   {
    "duration": 98,
    "start_time": "2021-08-12T20:47:41.065Z"
   },
   {
    "duration": 3745,
    "start_time": "2021-08-12T20:47:52.204Z"
   },
   {
    "duration": 8803,
    "start_time": "2021-08-12T20:55:34.948Z"
   },
   {
    "duration": 1572,
    "start_time": "2021-08-12T21:19:13.242Z"
   },
   {
    "duration": 46,
    "start_time": "2021-08-12T21:19:14.817Z"
   },
   {
    "duration": 8,
    "start_time": "2021-08-12T21:19:14.871Z"
   },
   {
    "duration": 74,
    "start_time": "2021-08-12T21:19:14.882Z"
   },
   {
    "duration": 18,
    "start_time": "2021-08-12T21:19:14.959Z"
   },
   {
    "duration": 102,
    "start_time": "2021-08-12T21:19:14.980Z"
   },
   {
    "duration": 92,
    "start_time": "2021-08-12T21:19:15.085Z"
   },
   {
    "duration": 24,
    "start_time": "2021-08-12T21:19:15.182Z"
   },
   {
    "duration": 6459,
    "start_time": "2021-08-12T21:19:15.209Z"
   },
   {
    "duration": 1830,
    "start_time": "2021-08-12T21:19:21.670Z"
   },
   {
    "duration": 15,
    "start_time": "2021-08-12T21:19:23.503Z"
   },
   {
    "duration": 135,
    "start_time": "2021-08-12T21:19:23.521Z"
   },
   {
    "duration": 154,
    "start_time": "2021-08-12T21:19:23.661Z"
   },
   {
    "duration": 8,
    "start_time": "2021-08-12T21:19:23.817Z"
   },
   {
    "duration": 1031,
    "start_time": "2021-08-12T21:19:23.828Z"
   },
   {
    "duration": 142769,
    "start_time": "2021-08-12T21:19:24.861Z"
   },
   {
    "duration": 1936,
    "start_time": "2021-08-12T21:21:47.633Z"
   },
   {
    "duration": 5,
    "start_time": "2021-08-12T21:21:49.571Z"
   },
   {
    "duration": 75,
    "start_time": "2021-08-12T21:21:49.579Z"
   },
   {
    "duration": 13,
    "start_time": "2021-08-12T21:21:49.657Z"
   },
   {
    "duration": 37,
    "start_time": "2021-08-12T21:21:49.673Z"
   },
   {
    "duration": 8253,
    "start_time": "2021-08-12T21:21:49.713Z"
   },
   {
    "duration": 33,
    "start_time": "2021-08-12T21:21:57.970Z"
   },
   {
    "duration": 1569,
    "start_time": "2021-08-13T20:52:36.184Z"
   },
   {
    "duration": 150,
    "start_time": "2021-08-13T20:52:37.756Z"
   },
   {
    "duration": 5,
    "start_time": "2021-08-13T20:52:37.910Z"
   },
   {
    "duration": 30,
    "start_time": "2021-08-13T20:52:37.918Z"
   },
   {
    "duration": 13,
    "start_time": "2021-08-13T20:52:37.950Z"
   },
   {
    "duration": 56,
    "start_time": "2021-08-13T20:52:37.985Z"
   },
   {
    "duration": 92,
    "start_time": "2021-08-13T20:52:38.044Z"
   },
   {
    "duration": 22,
    "start_time": "2021-08-13T20:52:38.140Z"
   },
   {
    "duration": 6597,
    "start_time": "2021-08-13T20:52:38.165Z"
   },
   {
    "duration": 1866,
    "start_time": "2021-08-13T20:52:44.765Z"
   },
   {
    "duration": 14,
    "start_time": "2021-08-13T20:52:46.633Z"
   },
   {
    "duration": 140,
    "start_time": "2021-08-13T20:52:46.650Z"
   },
   {
    "duration": 153,
    "start_time": "2021-08-13T20:52:46.792Z"
   },
   {
    "duration": 7,
    "start_time": "2021-08-13T20:52:46.948Z"
   },
   {
    "duration": 865,
    "start_time": "2021-08-13T20:52:46.957Z"
   },
   {
    "duration": 139484,
    "start_time": "2021-08-13T20:52:47.825Z"
   },
   {
    "duration": 1879,
    "start_time": "2021-08-13T20:55:07.311Z"
   },
   {
    "duration": 5,
    "start_time": "2021-08-13T20:55:09.193Z"
   },
   {
    "duration": 29,
    "start_time": "2021-08-13T20:55:09.200Z"
   },
   {
    "duration": 9,
    "start_time": "2021-08-13T20:55:09.231Z"
   },
   {
    "duration": 64,
    "start_time": "2021-08-13T20:55:09.242Z"
   },
   {
    "duration": 8509,
    "start_time": "2021-08-13T20:55:09.308Z"
   },
   {
    "duration": 41,
    "start_time": "2021-08-13T20:55:17.823Z"
   },
   {
    "duration": 13,
    "start_time": "2021-08-13T21:27:50.940Z"
   },
   {
    "duration": 328,
    "start_time": "2021-08-14T15:25:07.795Z"
   },
   {
    "duration": 1147,
    "start_time": "2021-08-14T15:25:21.542Z"
   },
   {
    "duration": 30,
    "start_time": "2021-08-14T15:25:22.690Z"
   },
   {
    "duration": 5,
    "start_time": "2021-08-14T15:25:22.722Z"
   },
   {
    "duration": 17,
    "start_time": "2021-08-14T15:25:22.729Z"
   },
   {
    "duration": 14,
    "start_time": "2021-08-14T15:25:22.748Z"
   },
   {
    "duration": 32,
    "start_time": "2021-08-14T15:25:22.764Z"
   },
   {
    "duration": 64,
    "start_time": "2021-08-14T15:25:22.798Z"
   },
   {
    "duration": 13,
    "start_time": "2021-08-14T15:25:22.865Z"
   },
   {
    "duration": 3694,
    "start_time": "2021-08-14T15:25:22.881Z"
   },
   {
    "duration": 1080,
    "start_time": "2021-08-14T15:25:26.577Z"
   },
   {
    "duration": 10,
    "start_time": "2021-08-14T15:25:27.658Z"
   },
   {
    "duration": 77,
    "start_time": "2021-08-14T15:25:27.670Z"
   },
   {
    "duration": 129,
    "start_time": "2021-08-14T15:25:27.750Z"
   },
   {
    "duration": 5,
    "start_time": "2021-08-14T15:25:27.881Z"
   },
   {
    "duration": 504,
    "start_time": "2021-08-14T15:25:27.887Z"
   },
   {
    "duration": 1141,
    "start_time": "2021-08-14T15:25:40.942Z"
   },
   {
    "duration": 27,
    "start_time": "2021-08-14T15:25:42.085Z"
   },
   {
    "duration": 6,
    "start_time": "2021-08-14T15:25:42.114Z"
   },
   {
    "duration": 35,
    "start_time": "2021-08-14T15:25:42.122Z"
   },
   {
    "duration": 25,
    "start_time": "2021-08-14T15:25:42.158Z"
   },
   {
    "duration": 46,
    "start_time": "2021-08-14T15:25:42.184Z"
   },
   {
    "duration": 37,
    "start_time": "2021-08-14T15:25:42.231Z"
   },
   {
    "duration": 13,
    "start_time": "2021-08-14T15:25:42.270Z"
   },
   {
    "duration": 3625,
    "start_time": "2021-08-14T15:25:42.285Z"
   },
   {
    "duration": 1130,
    "start_time": "2021-08-14T15:25:45.911Z"
   },
   {
    "duration": 9,
    "start_time": "2021-08-14T15:25:47.043Z"
   },
   {
    "duration": 87,
    "start_time": "2021-08-14T15:25:47.054Z"
   },
   {
    "duration": 132,
    "start_time": "2021-08-14T15:25:47.144Z"
   },
   {
    "duration": 5,
    "start_time": "2021-08-14T15:25:47.277Z"
   },
   {
    "duration": 498,
    "start_time": "2021-08-14T15:25:47.284Z"
   },
   {
    "duration": 78312,
    "start_time": "2021-08-14T15:25:47.784Z"
   },
   {
    "duration": 1457,
    "start_time": "2021-08-14T15:27:06.098Z"
   },
   {
    "duration": 86,
    "start_time": "2021-08-14T15:27:07.556Z"
   },
   {
    "duration": 22,
    "start_time": "2021-08-14T15:27:07.644Z"
   },
   {
    "duration": 9,
    "start_time": "2021-08-14T15:27:07.667Z"
   },
   {
    "duration": 26,
    "start_time": "2021-08-14T15:27:07.678Z"
   },
   {
    "duration": 5108,
    "start_time": "2021-08-14T15:27:07.706Z"
   },
   {
    "duration": 24,
    "start_time": "2021-08-14T15:27:12.817Z"
   },
   {
    "duration": 2002,
    "start_time": "2021-08-14T15:44:09.340Z"
   }
  ],
  "kernelspec": {
   "display_name": "Python 3",
   "language": "python",
   "name": "python3"
  },
  "language_info": {
   "codemirror_mode": {
    "name": "ipython",
    "version": 3
   },
   "file_extension": ".py",
   "mimetype": "text/x-python",
   "name": "python",
   "nbconvert_exporter": "python",
   "pygments_lexer": "ipython3",
   "version": "3.8.5"
  },
  "toc": {
   "base_numbering": 1,
   "nav_menu": {},
   "number_sections": true,
   "sideBar": true,
   "skip_h1_title": true,
   "title_cell": "Table of Contents",
   "title_sidebar": "Contents",
   "toc_cell": false,
   "toc_position": {},
   "toc_section_display": true,
   "toc_window_display": false
  }
 },
 "nbformat": 4,
 "nbformat_minor": 2
}
